{
 "cells": [
  {
   "cell_type": "markdown",
   "id": "9a576989",
   "metadata": {},
   "source": [
    "# Q1: Write a python program to scrape data for “Data Analyst” Job position in “Bangalore” location. Youha ve to scrape the job-title, job-location, company_name, experience_required. You have to scrape first 10 jobs data.This task will be done in following steps:                                                           \n",
    "1. First get the webpage https://www.naukri.com/\n",
    "2. Enter “Data Analyst” in “Skill, Designations, Companies” field and enter “Bangalore” in “enter the\n",
    "location” field.\n",
    "3. Then click the search button.\n",
    "4. Then scrape the data for the first 10 jobs results you get.\n",
    "5. Finally create a dataframe of the scraped data.\n"
   ]
  },
  {
   "cell_type": "code",
   "execution_count": 52,
   "id": "85f82627",
   "metadata": {},
   "outputs": [],
   "source": [
    "# import libraries\n",
    "import selenium #Library that is used to work with selenium\n",
    "import pandas as pd #to create dataframe\n",
    "from selenium import webdriver #importing webdriver module from selenium to open up automated chrome window\n",
    "import warnings #to ignore any sort of warning\n",
    "warnings.filterwarnings('ignore')\n",
    "import time #use to stop serach engine for few seconds\n"
   ]
  },
  {
   "cell_type": "code",
   "execution_count": 53,
   "id": "db1c5020",
   "metadata": {},
   "outputs": [],
   "source": [
    "#lets first connect to the web driver\n",
    "driver=webdriver.Chrome(r\"C:\\Python\\chromedriver.exe\") #r will convert string to raw string"
   ]
  },
  {
   "cell_type": "code",
   "execution_count": 54,
   "id": "736a7989",
   "metadata": {},
   "outputs": [],
   "source": [
    "#opening up naukri.com website on a automated chrome window\n",
    "driver.get(\"https://www.naukri.com/\")"
   ]
  },
  {
   "cell_type": "code",
   "execution_count": 55,
   "id": "d0563a9e",
   "metadata": {},
   "outputs": [],
   "source": [
    "#finding elements for job search for\n",
    "search_field_designation=driver.find_element_by_class_name(\"suggestor-input \") #job search for\n",
    "search_field_designation.send_keys(\"Data Analyst\") #send_keys is a function to enter any data"
   ]
  },
  {
   "cell_type": "code",
   "execution_count": 56,
   "id": "fa7bfe42",
   "metadata": {},
   "outputs": [],
   "source": [
    "#enter the location\n",
    "search_field_Loc=driver.find_element_by_xpath(\"/html/body/div/div[2]/div[3]/div/div/div[3]/div/div/div/input\") #job search for\n",
    "search_field_Loc.send_keys(\"Bangalore\") #send_keys is a function to enter any data"
   ]
  },
  {
   "cell_type": "code",
   "execution_count": 57,
   "id": "52202975",
   "metadata": {},
   "outputs": [],
   "source": [
    "search_button=driver.find_element_by_xpath(\"/html/body/div/div[2]/div[3]/div/div/div[6]\")\n",
    "search_button.click()"
   ]
  },
  {
   "cell_type": "code",
   "execution_count": 58,
   "id": "52d292c9",
   "metadata": {},
   "outputs": [],
   "source": [
    "job_titles=[]\n",
    "company_names=[]\n",
    "locations_list=[]\n",
    "experience_list=[]\n"
   ]
  },
  {
   "cell_type": "code",
   "execution_count": null,
   "id": "8fa57ae3",
   "metadata": {},
   "outputs": [],
   "source": [
    "titles_tag=driver.find_elements_by_xpath(\"//a[@class='title fw500 ellipsis']\") #locating web element of title\n",
    "titles_tag[0:10] #using range to print only top 10 results"
   ]
  },
  {
   "cell_type": "code",
   "execution_count": null,
   "id": "7ac407df",
   "metadata": {},
   "outputs": [],
   "source": [
    "#We will run a loop to iterate over the tags extracted above and extract the text inside them\n",
    "for i in titles_tag: #iterarting over web element of title\n",
    "    title=i.text    #extracting text from each web element\n",
    "    job_titles.append(title) #appending each extracted text into empty list\n",
    "job_titles[0:10] #printing top 10 data"
   ]
  },
  {
   "cell_type": "code",
   "execution_count": null,
   "id": "9801f796",
   "metadata": {},
   "outputs": [],
   "source": [
    "#extracting company naames\n",
    "companies_tag=driver.find_elements_by_xpath(\"//a[@class='subTitle ellipsis fleft']\")\n",
    "companies_tag[0:10]"
   ]
  },
  {
   "cell_type": "code",
   "execution_count": null,
   "id": "e54e34da",
   "metadata": {},
   "outputs": [],
   "source": [
    "for i in companies_tag: #iterarting over web element of companies\n",
    "    title=i.text    #extracting text from each web element\n",
    "    company_names.append(title) #appending each extracted text into empty list\n",
    "company_names[0:10] #printing top 10 data"
   ]
  },
  {
   "cell_type": "code",
   "execution_count": null,
   "id": "ebf3d83d",
   "metadata": {},
   "outputs": [],
   "source": [
    "#extracting experience\n",
    "experience_tag=driver.find_elements_by_xpath(\"//li[@class='fleft grey-text br2 placeHolderLi experience']\")\n",
    "experience_tag[0:10]"
   ]
  },
  {
   "cell_type": "code",
   "execution_count": null,
   "id": "aff99ab8",
   "metadata": {},
   "outputs": [],
   "source": [
    "for i in experience_tag: #iterarting over web element of experience\n",
    "    title=i.text    #extracting text from each web element\n",
    "    experience_list.append(title) #appending each extracted text into empty list\n",
    "experience_list[0:10] #printing top 10 data"
   ]
  },
  {
   "cell_type": "code",
   "execution_count": null,
   "id": "24048f05",
   "metadata": {},
   "outputs": [],
   "source": [
    "loc_tag=driver.find_elements_by_xpath(\"//li[@class='fleft grey-text br2 placeHolderLi location']\")#extracting location\n",
    "loc_tag[0:10]"
   ]
  },
  {
   "cell_type": "code",
   "execution_count": null,
   "id": "1eddfd02",
   "metadata": {},
   "outputs": [],
   "source": [
    "for i in loc_tag: #iterarting over web element of location\n",
    "    title=i.text    #extracting text from each web element\n",
    "    locations_list.append(title) #appending each extracted text into empty list\n",
    "locations_list[0:10] #printing top 10 data"
   ]
  },
  {
   "cell_type": "code",
   "execution_count": 67,
   "id": "4760d37f",
   "metadata": {},
   "outputs": [
    {
     "data": {
      "text/html": [
       "<div>\n",
       "<style scoped>\n",
       "    .dataframe tbody tr th:only-of-type {\n",
       "        vertical-align: middle;\n",
       "    }\n",
       "\n",
       "    .dataframe tbody tr th {\n",
       "        vertical-align: top;\n",
       "    }\n",
       "\n",
       "    .dataframe thead th {\n",
       "        text-align: right;\n",
       "    }\n",
       "</style>\n",
       "<table border=\"1\" class=\"dataframe\">\n",
       "  <thead>\n",
       "    <tr style=\"text-align: right;\">\n",
       "      <th></th>\n",
       "      <th>Job Title</th>\n",
       "      <th>Company</th>\n",
       "      <th>Experience</th>\n",
       "      <th>Locations</th>\n",
       "    </tr>\n",
       "  </thead>\n",
       "  <tbody>\n",
       "    <tr>\n",
       "      <th>0</th>\n",
       "      <td>Business and Data Analyst</td>\n",
       "      <td>CAREERDOST ENTERPRISE</td>\n",
       "      <td>0-5 Yrs</td>\n",
       "      <td>Bangalore/Bengaluru\\n(WFH during Covid)</td>\n",
       "    </tr>\n",
       "    <tr>\n",
       "      <th>1</th>\n",
       "      <td>Senior Data Analyst</td>\n",
       "      <td>Gsn Games India</td>\n",
       "      <td>3-7 Yrs</td>\n",
       "      <td>Bangalore/Bengaluru</td>\n",
       "    </tr>\n",
       "    <tr>\n",
       "      <th>2</th>\n",
       "      <td>Jr . Data Analyst</td>\n",
       "      <td>Armorblox</td>\n",
       "      <td>0-2 Yrs</td>\n",
       "      <td>Bangalore/Bengaluru</td>\n",
       "    </tr>\n",
       "    <tr>\n",
       "      <th>3</th>\n",
       "      <td>Officer - Category Demand Management ( Data An...</td>\n",
       "      <td>Myntra</td>\n",
       "      <td>1-4 Yrs</td>\n",
       "      <td>Bangalore/Bengaluru</td>\n",
       "    </tr>\n",
       "    <tr>\n",
       "      <th>4</th>\n",
       "      <td>Software Technologist II - Data Analyst</td>\n",
       "      <td>Philips</td>\n",
       "      <td>5-8 Yrs</td>\n",
       "      <td>Bangalore/Bengaluru</td>\n",
       "    </tr>\n",
       "    <tr>\n",
       "      <th>5</th>\n",
       "      <td>SAS Analyst / data Analyst / Business analyst ...</td>\n",
       "      <td>Leading US MNC into analytics</td>\n",
       "      <td>2-7 Yrs</td>\n",
       "      <td>Bangalore/Bengaluru, Delhi / NCR, Mumbai (All ...</td>\n",
       "    </tr>\n",
       "    <tr>\n",
       "      <th>6</th>\n",
       "      <td>Sr Data Analyst</td>\n",
       "      <td>TECHNODYSIS PRIVATE LIMITED</td>\n",
       "      <td>6-10 Yrs</td>\n",
       "      <td>Hyderabad/Secunderabad, Pune, Chennai, Bangalo...</td>\n",
       "    </tr>\n",
       "    <tr>\n",
       "      <th>7</th>\n",
       "      <td>Senior Data Analyst</td>\n",
       "      <td>ClearTrail Technologies</td>\n",
       "      <td>4-8 Yrs</td>\n",
       "      <td>Noida, Indore, Hyderabad/Secunderabad, Pune, G...</td>\n",
       "    </tr>\n",
       "    <tr>\n",
       "      <th>8</th>\n",
       "      <td>Data Analyst</td>\n",
       "      <td>Malayala Manorama</td>\n",
       "      <td>2-7 Yrs</td>\n",
       "      <td>Chennai, Bangalore/Bengaluru, kerala</td>\n",
       "    </tr>\n",
       "    <tr>\n",
       "      <th>9</th>\n",
       "      <td>Data Analyst II</td>\n",
       "      <td>Cerner</td>\n",
       "      <td>6-10 Yrs</td>\n",
       "      <td>Bangalore/Bengaluru</td>\n",
       "    </tr>\n",
       "  </tbody>\n",
       "</table>\n",
       "</div>"
      ],
      "text/plain": [
       "                                           Job Title  \\\n",
       "0                          Business and Data Analyst   \n",
       "1                                Senior Data Analyst   \n",
       "2                                  Jr . Data Analyst   \n",
       "3  Officer - Category Demand Management ( Data An...   \n",
       "4            Software Technologist II - Data Analyst   \n",
       "5  SAS Analyst / data Analyst / Business analyst ...   \n",
       "6                                    Sr Data Analyst   \n",
       "7                                Senior Data Analyst   \n",
       "8                                       Data Analyst   \n",
       "9                                    Data Analyst II   \n",
       "\n",
       "                         Company Experience  \\\n",
       "0          CAREERDOST ENTERPRISE    0-5 Yrs   \n",
       "1                Gsn Games India    3-7 Yrs   \n",
       "2                      Armorblox    0-2 Yrs   \n",
       "3                         Myntra    1-4 Yrs   \n",
       "4                        Philips    5-8 Yrs   \n",
       "5  Leading US MNC into analytics    2-7 Yrs   \n",
       "6    TECHNODYSIS PRIVATE LIMITED   6-10 Yrs   \n",
       "7        ClearTrail Technologies    4-8 Yrs   \n",
       "8              Malayala Manorama    2-7 Yrs   \n",
       "9                         Cerner   6-10 Yrs   \n",
       "\n",
       "                                           Locations  \n",
       "0            Bangalore/Bengaluru\\n(WFH during Covid)  \n",
       "1                                Bangalore/Bengaluru  \n",
       "2                                Bangalore/Bengaluru  \n",
       "3                                Bangalore/Bengaluru  \n",
       "4                                Bangalore/Bengaluru  \n",
       "5  Bangalore/Bengaluru, Delhi / NCR, Mumbai (All ...  \n",
       "6  Hyderabad/Secunderabad, Pune, Chennai, Bangalo...  \n",
       "7  Noida, Indore, Hyderabad/Secunderabad, Pune, G...  \n",
       "8               Chennai, Bangalore/Bengaluru, kerala  \n",
       "9                                Bangalore/Bengaluru  "
      ]
     },
     "execution_count": 67,
     "metadata": {},
     "output_type": "execute_result"
    }
   ],
   "source": [
    "#creating dataframe\n",
    "jobs=pd.DataFrame({})\n",
    "jobs['Job Title']=job_titles\n",
    "jobs['Company']=company_names\n",
    "jobs['Experience']=experience_list\n",
    "jobs['Locations']=locations_list\n",
    "\n",
    "jobs[0:10]"
   ]
  },
  {
   "cell_type": "markdown",
   "id": "9c622a95",
   "metadata": {},
   "source": [
    "# Q2: Write a python program to scrape data for “Data Scientist” Job position in “Bangalore” location. You have to scrape the job-title, job-location, company_name. You have to scrape first 10 jobs data.This task will be done in following steps:\n",
    "1. First get the webpage https://www.naukri.com/\n",
    "2. Enter “Data Scientist” in “Skill, Designations, Companies” field and enter “Bangalore” in “enter the\n",
    "location” field.\n",
    "3. Then click the search button.\n",
    "4. Then scrape the data for the first 10 jobs results you get.\n",
    "5. Finally create a dataframe of the scraped data."
   ]
  },
  {
   "cell_type": "code",
   "execution_count": 27,
   "id": "b768fed8",
   "metadata": {},
   "outputs": [],
   "source": [
    "# import libraries\n",
    "import selenium #Library that is used to work with selenium\n",
    "import pandas as pd #to create dataframe\n",
    "from selenium import webdriver #importing webdriver module from selenium to open up automated chrome window\n",
    "import warnings #to ignore any sort of warning\n",
    "warnings.filterwarnings('ignore')\n",
    "import time #use to stop serach engine for few seconds"
   ]
  },
  {
   "cell_type": "code",
   "execution_count": 37,
   "id": "61c9f6a6",
   "metadata": {},
   "outputs": [],
   "source": [
    "#lets first connect to the web driver\n",
    "driver=webdriver.Chrome(r\"C:\\Python\\chromedriver.exe\") #r will convert string to raw string"
   ]
  },
  {
   "cell_type": "code",
   "execution_count": 38,
   "id": "181f00df",
   "metadata": {},
   "outputs": [],
   "source": [
    "#opening up naukri.com website on a automated chrome window\n",
    "driver.get(\"https://www.naukri.com/\")"
   ]
  },
  {
   "cell_type": "code",
   "execution_count": 39,
   "id": "bd2b31c6",
   "metadata": {},
   "outputs": [],
   "source": [
    "#finding elements for job search for\n",
    "field_desig=driver.find_element_by_class_name(\"suggestor-input \") #job search for\n",
    "field_desig.send_keys(\"Data Scientist\") #send_keys is a function to enter any data"
   ]
  },
  {
   "cell_type": "code",
   "execution_count": 40,
   "id": "d39b05d8",
   "metadata": {},
   "outputs": [],
   "source": [
    "#location\n",
    "field_Loc=driver.find_element_by_xpath(\"/html/body/div/div[2]/div[3]/div/div/div[3]/div/div/div/input\") #job search for\n",
    "field_Loc.send_keys(\"Bangalore\") #send_keys is a function to enter any data"
   ]
  },
  {
   "cell_type": "code",
   "execution_count": 41,
   "id": "0bcbc949",
   "metadata": {},
   "outputs": [],
   "source": [
    "#search by full xpath\n",
    "search_button=driver.find_element_by_xpath(\"/html/body/div/div[2]/div[3]/div/div/div[6]\")\n",
    "search_button.click()"
   ]
  },
  {
   "cell_type": "code",
   "execution_count": 42,
   "id": "0a9e532f",
   "metadata": {},
   "outputs": [],
   "source": [
    "job_titles=[]\n",
    "locations_list=[]\n",
    "company_names=[]"
   ]
  },
  {
   "cell_type": "code",
   "execution_count": null,
   "id": "5936b86e",
   "metadata": {},
   "outputs": [],
   "source": [
    "jtitles_tag=driver.find_elements_by_xpath(\"//a[@class='title fw500 ellipsis']\") #locating web element of title\n",
    "jtitles_tag[0:10] #using range to print only top 10 results"
   ]
  },
  {
   "cell_type": "code",
   "execution_count": null,
   "id": "b045d0c1",
   "metadata": {},
   "outputs": [],
   "source": [
    "for i in jtitles_tag: #iterarting over web element of titles\n",
    "    title=i.text    #extracting text from each web element\n",
    "    job_titles.append(title) #appending each extracted text into empty list\n",
    "job_titles[0:10] #printing top 10 data"
   ]
  },
  {
   "cell_type": "code",
   "execution_count": null,
   "id": "e6bc3a12",
   "metadata": {},
   "outputs": [],
   "source": [
    "#extracting company naames\n",
    "company_tag=driver.find_elements_by_xpath(\"//a[@class='subTitle ellipsis fleft']\")\n",
    "company_tag[0:10]"
   ]
  },
  {
   "cell_type": "code",
   "execution_count": null,
   "id": "2111a356",
   "metadata": {},
   "outputs": [],
   "source": [
    "for i in company_tag: #iterarting over web element of companies\n",
    "    title=i.text    #extracting text from each web element\n",
    "    company_names.append(title) #appending each extracted text into empty list\n",
    "company_names[0:10] #printing top 10 data"
   ]
  },
  {
   "cell_type": "code",
   "execution_count": null,
   "id": "a77710f3",
   "metadata": {},
   "outputs": [],
   "source": [
    "location_tag=driver.find_elements_by_xpath(\"//li[@class='fleft grey-text br2 placeHolderLi location']\") #extrcting locations\n",
    "location_tag[0:10]"
   ]
  },
  {
   "cell_type": "code",
   "execution_count": null,
   "id": "b9f87ebc",
   "metadata": {},
   "outputs": [],
   "source": [
    "for i in location_tag: #iterarting over web element of locations\n",
    "    title=i.text    #extracting text from each web element\n",
    "    locations_list.append(title) #appending each extracted text into empty list\n",
    "locations_list[0:10] #printing top 10 data"
   ]
  },
  {
   "cell_type": "code",
   "execution_count": 51,
   "id": "ba7a7650",
   "metadata": {},
   "outputs": [
    {
     "data": {
      "text/html": [
       "<div>\n",
       "<style scoped>\n",
       "    .dataframe tbody tr th:only-of-type {\n",
       "        vertical-align: middle;\n",
       "    }\n",
       "\n",
       "    .dataframe tbody tr th {\n",
       "        vertical-align: top;\n",
       "    }\n",
       "\n",
       "    .dataframe thead th {\n",
       "        text-align: right;\n",
       "    }\n",
       "</style>\n",
       "<table border=\"1\" class=\"dataframe\">\n",
       "  <thead>\n",
       "    <tr style=\"text-align: right;\">\n",
       "      <th></th>\n",
       "      <th>Job Title</th>\n",
       "      <th>Locations</th>\n",
       "      <th>Company</th>\n",
       "    </tr>\n",
       "  </thead>\n",
       "  <tbody>\n",
       "    <tr>\n",
       "      <th>0</th>\n",
       "      <td>Senior Data Scientist</td>\n",
       "      <td>Bangalore/Bengaluru</td>\n",
       "      <td>Walmart</td>\n",
       "    </tr>\n",
       "    <tr>\n",
       "      <th>1</th>\n",
       "      <td>Staff Data Scientist</td>\n",
       "      <td>Bangalore/Bengaluru</td>\n",
       "      <td>Walmart</td>\n",
       "    </tr>\n",
       "    <tr>\n",
       "      <th>2</th>\n",
       "      <td>Data Scientist</td>\n",
       "      <td>Bangalore/Bengaluru</td>\n",
       "      <td>CRED</td>\n",
       "    </tr>\n",
       "    <tr>\n",
       "      <th>3</th>\n",
       "      <td>Senior Data Scientist</td>\n",
       "      <td>Bangalore/Bengaluru, Mumbai (All Areas)</td>\n",
       "      <td>Course5</td>\n",
       "    </tr>\n",
       "    <tr>\n",
       "      <th>4</th>\n",
       "      <td>Associate Data Scientist</td>\n",
       "      <td>Mumbai, Pune, Bangalore/Bengaluru, Mumbai</td>\n",
       "      <td>IDFC FIRST Bank</td>\n",
       "    </tr>\n",
       "    <tr>\n",
       "      <th>5</th>\n",
       "      <td>Senior Data Scientist (IN4)</td>\n",
       "      <td>Bangalore/Bengaluru</td>\n",
       "      <td>Walmart</td>\n",
       "    </tr>\n",
       "    <tr>\n",
       "      <th>6</th>\n",
       "      <td>Senior Data Scientist</td>\n",
       "      <td>Bangalore/Bengaluru</td>\n",
       "      <td>Walmart</td>\n",
       "    </tr>\n",
       "    <tr>\n",
       "      <th>7</th>\n",
       "      <td>Senior Data Scientist</td>\n",
       "      <td>Bangalore/Bengaluru</td>\n",
       "      <td>Ericsson Global Services</td>\n",
       "    </tr>\n",
       "    <tr>\n",
       "      <th>8</th>\n",
       "      <td>Lead Data Scientist</td>\n",
       "      <td>Bangalore/Bengaluru</td>\n",
       "      <td>Groww</td>\n",
       "    </tr>\n",
       "    <tr>\n",
       "      <th>9</th>\n",
       "      <td>Senior Data Scientist</td>\n",
       "      <td>Bangalore/Bengaluru</td>\n",
       "      <td>Truecaller</td>\n",
       "    </tr>\n",
       "  </tbody>\n",
       "</table>\n",
       "</div>"
      ],
      "text/plain": [
       "                     Job Title                                  Locations  \\\n",
       "0        Senior Data Scientist                        Bangalore/Bengaluru   \n",
       "1         Staff Data Scientist                        Bangalore/Bengaluru   \n",
       "2               Data Scientist                        Bangalore/Bengaluru   \n",
       "3        Senior Data Scientist    Bangalore/Bengaluru, Mumbai (All Areas)   \n",
       "4     Associate Data Scientist  Mumbai, Pune, Bangalore/Bengaluru, Mumbai   \n",
       "5  Senior Data Scientist (IN4)                        Bangalore/Bengaluru   \n",
       "6        Senior Data Scientist                        Bangalore/Bengaluru   \n",
       "7        Senior Data Scientist                        Bangalore/Bengaluru   \n",
       "8          Lead Data Scientist                        Bangalore/Bengaluru   \n",
       "9        Senior Data Scientist                        Bangalore/Bengaluru   \n",
       "\n",
       "                    Company  \n",
       "0                   Walmart  \n",
       "1                   Walmart  \n",
       "2                      CRED  \n",
       "3                   Course5  \n",
       "4           IDFC FIRST Bank  \n",
       "5                   Walmart  \n",
       "6                   Walmart  \n",
       "7  Ericsson Global Services  \n",
       "8                     Groww  \n",
       "9                Truecaller  "
      ]
     },
     "execution_count": 51,
     "metadata": {},
     "output_type": "execute_result"
    }
   ],
   "source": [
    "#creating dataframe\n",
    "jobs=pd.DataFrame({})\n",
    "jobs['Job Title']=job_titles\n",
    "jobs['Locations']=locations_list\n",
    "jobs['Company']=company_names\n",
    "\n",
    "jobs[0:10]"
   ]
  },
  {
   "cell_type": "markdown",
   "id": "c7e63de1",
   "metadata": {},
   "source": [
    "# Q3: In this question you have to scrape data using the filters available on the webpage as shown below:\n",
    "You have to use the location and salary filter.\n",
    "You have to scrape data for “Data Scientist” designation for first 10 job results.\n",
    "You have to scrape the job-title, job-location, company name, experience required.\n",
    "The location filter to be used is “Delhi/NCR”. The salary filter to be used is “3-6” lakhs\n",
    "The task will be done as shown in the below steps:\n",
    "1. first get the webpage https://www.naukri.com/\n",
    "2. Enter “Data Scientist” in “Skill, Designations, and Companies” field.\n",
    "3. Then click the search button.\n",
    "4. Then apply the location filter and salary filter by checking the respective boxes\n",
    "5. Then scrape the data for the first 10 jobs results you get.\n",
    "6. Finally create a dataframe of the scraped data."
   ]
  },
  {
   "cell_type": "code",
   "execution_count": 133,
   "id": "359b10ec",
   "metadata": {},
   "outputs": [],
   "source": [
    "# import libraries\n",
    "import selenium #Library that is used to work with selenium\n",
    "import pandas as pd #to create dataframe\n",
    "from selenium import webdriver #importing webdriver module from selenium to open up automated chrome window\n",
    "import warnings #to ignore any sort of warning\n",
    "warnings.filterwarnings('ignore')\n",
    "import time #use to stop serach engine for few seconds"
   ]
  },
  {
   "cell_type": "code",
   "execution_count": 134,
   "id": "d1b1c43e",
   "metadata": {},
   "outputs": [],
   "source": [
    "#lets first connect to the web driver\n",
    "driver=webdriver.Chrome(r\"C:\\Python\\chromedriver.exe\") #r will convert string to raw string"
   ]
  },
  {
   "cell_type": "code",
   "execution_count": 135,
   "id": "dfa01420",
   "metadata": {},
   "outputs": [],
   "source": [
    "#opening up naukri.com website on a automated chrome window\n",
    "driver.get(\"https://www.naukri.com/\")"
   ]
  },
  {
   "cell_type": "code",
   "execution_count": 136,
   "id": "86b061bf",
   "metadata": {},
   "outputs": [],
   "source": [
    "#finding elements for job search for\n",
    "search_field_designation=driver.find_element_by_class_name(\"suggestor-input \") #job search for\n",
    "search_field_designation.send_keys(\"Data Scientist\") #send_keys is a function to enter any data"
   ]
  },
  {
   "cell_type": "code",
   "execution_count": 137,
   "id": "0d5df790",
   "metadata": {},
   "outputs": [],
   "source": [
    "search_button=driver.find_element_by_xpath(\"/html/body/div/div[2]/div[3]/div/div/div[6]\")\n",
    "search_button.click()"
   ]
  },
  {
   "cell_type": "code",
   "execution_count": 138,
   "id": "4ab31b86",
   "metadata": {},
   "outputs": [],
   "source": [
    "search_loc=driver.find_element_by_xpath(\"/html/body/div[1]/div[3]/div[2]/section[1]/div[2]/div[4]/div[2]/div[3]/label/i\").click()\n",
    "time.sleep(2)"
   ]
  },
  {
   "cell_type": "code",
   "execution_count": 153,
   "id": "5d50d081",
   "metadata": {},
   "outputs": [],
   "source": [
    "search_sal=driver.find_element_by_xpath(\"/html/body/div[1]/div[3]/div[2]/section[1]/div[2]/div[5]/div[2]/div[2]/label/i\").click()\n",
    "time.sleep(2)"
   ]
  },
  {
   "cell_type": "code",
   "execution_count": 167,
   "id": "a948ac04",
   "metadata": {},
   "outputs": [],
   "source": [
    "j_title=[]\n",
    "loc_list=[]\n",
    "company=[]\n",
    "Exp_list=[]"
   ]
  },
  {
   "cell_type": "code",
   "execution_count": null,
   "id": "92e2349b",
   "metadata": {},
   "outputs": [],
   "source": [
    "job_tag=driver.find_elements_by_xpath(\"//a[@class='title fw500 ellipsis']\") #locating web element of job\n",
    "#title_tag[0:10] #using range to print only top 10 results\n",
    "\n",
    "for i in job_tag: #iterarting over web element of job\n",
    "    title=i.text    #extracting text from each web element\n",
    "    j_title.append(title) #appending each extracted text into empty list\n",
    "j_title[0:10] #printing top 10 data"
   ]
  },
  {
   "cell_type": "code",
   "execution_count": null,
   "id": "2afe659d",
   "metadata": {},
   "outputs": [],
   "source": [
    "comp_tag=driver.find_elements_by_xpath(\"//a[@class='subTitle ellipsis fleft']\")\n",
    "\n",
    "for i in comp_tag: #iterarting over web element of companies\n",
    "    title=i.text    #extracting text from each web element\n",
    "    company.append(title) #appending each extracted text into empty list\n",
    "company[0:10] #printing top 10 data"
   ]
  },
  {
   "cell_type": "code",
   "execution_count": null,
   "id": "f101e109",
   "metadata": {},
   "outputs": [],
   "source": [
    "exp_tag=driver.find_elements_by_xpath(\"//li[@class='fleft grey-text br2 placeHolderLi experience']\")\n",
    "\n",
    "for i in exp_tag: #iterarting over web element of Exp\n",
    "    title=i.text    #extracting text from each web element\n",
    "    Exp_list.append(title) #appending each extracted text into empty list\n",
    "Exp_list[0:10] #printing top 10 data"
   ]
  },
  {
   "cell_type": "code",
   "execution_count": null,
   "id": "9396daad",
   "metadata": {},
   "outputs": [],
   "source": [
    "loca_tag=driver.find_elements_by_xpath(\"//li[@class='fleft grey-text br2 placeHolderLi location']\")\n",
    "loc_list=[]\n",
    "for i in loca_tag: #iterarting over web element of Locations\n",
    "    title=i.text    #extracting text from each web element\n",
    "    loc_list.append(title) #appending each extracted text into empty list\n",
    "loc_list[0:10] #printing top 10 data"
   ]
  },
  {
   "cell_type": "code",
   "execution_count": 181,
   "id": "d65aacfd",
   "metadata": {},
   "outputs": [
    {
     "name": "stdout",
     "output_type": "stream",
     "text": [
      "20 20 20 20\n"
     ]
    }
   ],
   "source": [
    "print(len(j_title),len(company),len(Exp_list),len(loc_list)) #checking length"
   ]
  },
  {
   "cell_type": "code",
   "execution_count": 184,
   "id": "bd1812cc",
   "metadata": {},
   "outputs": [
    {
     "data": {
      "text/html": [
       "<div>\n",
       "<style scoped>\n",
       "    .dataframe tbody tr th:only-of-type {\n",
       "        vertical-align: middle;\n",
       "    }\n",
       "\n",
       "    .dataframe tbody tr th {\n",
       "        vertical-align: top;\n",
       "    }\n",
       "\n",
       "    .dataframe thead th {\n",
       "        text-align: right;\n",
       "    }\n",
       "</style>\n",
       "<table border=\"1\" class=\"dataframe\">\n",
       "  <thead>\n",
       "    <tr style=\"text-align: right;\">\n",
       "      <th></th>\n",
       "      <th>Job_Title</th>\n",
       "      <th>Company</th>\n",
       "      <th>Experience</th>\n",
       "      <th>Locations</th>\n",
       "    </tr>\n",
       "  </thead>\n",
       "  <tbody>\n",
       "    <tr>\n",
       "      <th>0</th>\n",
       "      <td>Associate Data Scientist</td>\n",
       "      <td>Optum</td>\n",
       "      <td>1-5 Yrs</td>\n",
       "      <td>Gurgaon/Gurugram</td>\n",
       "    </tr>\n",
       "    <tr>\n",
       "      <th>1</th>\n",
       "      <td>Hiring For Senior Data Scientist-Noida</td>\n",
       "      <td>Lumiq.ai</td>\n",
       "      <td>2-6 Yrs</td>\n",
       "      <td>Noida, Greater Noida, Delhi / NCR</td>\n",
       "    </tr>\n",
       "    <tr>\n",
       "      <th>2</th>\n",
       "      <td>Hiring For Data Analyst and Data Scientist For...</td>\n",
       "      <td>Shadow Placements</td>\n",
       "      <td>3-7 Yrs</td>\n",
       "      <td>Noida, Gurgaon/Gurugram, Delhi / NCR</td>\n",
       "    </tr>\n",
       "    <tr>\n",
       "      <th>3</th>\n",
       "      <td>Opening For Data Scientist</td>\n",
       "      <td>Care Health Insurance</td>\n",
       "      <td>1-5 Yrs</td>\n",
       "      <td>Gurgaon/Gurugram</td>\n",
       "    </tr>\n",
       "    <tr>\n",
       "      <th>4</th>\n",
       "      <td>Lead Data Scientist</td>\n",
       "      <td>KIA INDIA PRIVATE LIMITED</td>\n",
       "      <td>7-10 Yrs</td>\n",
       "      <td>Gurgaon/Gurugram</td>\n",
       "    </tr>\n",
       "    <tr>\n",
       "      <th>5</th>\n",
       "      <td>Data Scientist - Python/SQL</td>\n",
       "      <td>AVE-Promagne</td>\n",
       "      <td>3-8 Yrs</td>\n",
       "      <td>Noida, Kota, Mumbai, Chandigarh, Lucknow, Agra...</td>\n",
       "    </tr>\n",
       "    <tr>\n",
       "      <th>6</th>\n",
       "      <td>Associate Data Scientist</td>\n",
       "      <td>Right Step Consulting</td>\n",
       "      <td>3-6 Yrs</td>\n",
       "      <td>Noida</td>\n",
       "    </tr>\n",
       "    <tr>\n",
       "      <th>7</th>\n",
       "      <td>Urgent opening For Data Scientist role</td>\n",
       "      <td>GLOBAL UPSIDE India Pvt Ltd</td>\n",
       "      <td>2-4 Yrs</td>\n",
       "      <td>New Delhi, Bangalore/Bengaluru</td>\n",
       "    </tr>\n",
       "    <tr>\n",
       "      <th>8</th>\n",
       "      <td>Data Scientist Jobs</td>\n",
       "      <td>Right Step Consulting</td>\n",
       "      <td>1-5 Yrs</td>\n",
       "      <td>Noida</td>\n",
       "    </tr>\n",
       "    <tr>\n",
       "      <th>9</th>\n",
       "      <td>Data Scientist</td>\n",
       "      <td>Cloudstrats Technologies Private Limited</td>\n",
       "      <td>3-5 Yrs</td>\n",
       "      <td>New Delhi, Delhi / NCR, Mumbai (All Areas)</td>\n",
       "    </tr>\n",
       "  </tbody>\n",
       "</table>\n",
       "</div>"
      ],
      "text/plain": [
       "                                           Job_Title  \\\n",
       "0                           Associate Data Scientist   \n",
       "1             Hiring For Senior Data Scientist-Noida   \n",
       "2  Hiring For Data Analyst and Data Scientist For...   \n",
       "3                         Opening For Data Scientist   \n",
       "4                                Lead Data Scientist   \n",
       "5                        Data Scientist - Python/SQL   \n",
       "6                           Associate Data Scientist   \n",
       "7             Urgent opening For Data Scientist role   \n",
       "8                                Data Scientist Jobs   \n",
       "9                                     Data Scientist   \n",
       "\n",
       "                                    Company Experience  \\\n",
       "0                                     Optum    1-5 Yrs   \n",
       "1                                  Lumiq.ai    2-6 Yrs   \n",
       "2                         Shadow Placements    3-7 Yrs   \n",
       "3                     Care Health Insurance    1-5 Yrs   \n",
       "4                 KIA INDIA PRIVATE LIMITED   7-10 Yrs   \n",
       "5                              AVE-Promagne    3-8 Yrs   \n",
       "6                     Right Step Consulting    3-6 Yrs   \n",
       "7               GLOBAL UPSIDE India Pvt Ltd    2-4 Yrs   \n",
       "8                     Right Step Consulting    1-5 Yrs   \n",
       "9  Cloudstrats Technologies Private Limited    3-5 Yrs   \n",
       "\n",
       "                                           Locations  \n",
       "0                                   Gurgaon/Gurugram  \n",
       "1                  Noida, Greater Noida, Delhi / NCR  \n",
       "2               Noida, Gurgaon/Gurugram, Delhi / NCR  \n",
       "3                                   Gurgaon/Gurugram  \n",
       "4                                   Gurgaon/Gurugram  \n",
       "5  Noida, Kota, Mumbai, Chandigarh, Lucknow, Agra...  \n",
       "6                                              Noida  \n",
       "7                     New Delhi, Bangalore/Bengaluru  \n",
       "8                                              Noida  \n",
       "9         New Delhi, Delhi / NCR, Mumbai (All Areas)  "
      ]
     },
     "execution_count": 184,
     "metadata": {},
     "output_type": "execute_result"
    }
   ],
   "source": [
    "#creating dataframe\n",
    "job=pd.DataFrame({})\n",
    "job['Job_Title']=j_title\n",
    "job['Company']=company\n",
    "job['Experience']=Exp_list\n",
    "job['Locations']=loc_list\n",
    "\n",
    "job[0:10]"
   ]
  },
  {
   "cell_type": "markdown",
   "id": "7a395674",
   "metadata": {},
   "source": [
    "# Q4: Scrape data of first 100 sunglasses listings on flipkart.com. You have to scrape four attributes:\n",
    "1. Brand\n",
    "2. Product Description\n",
    "3. Price\n",
    "The attributes which you have to scrape is ticked marked in the below image.\n",
    "To scrape the data you have to go through following steps:\n",
    "1. Go to Flipkart webpage by url : https://www.flipkart.com/\n",
    "2. Enter “sunglasses” in the search field where “search for products, brands andmore” is written and\n",
    "click the search icon\n",
    "3. After that you will reach to the page having a lot of sunglasses. From this pageyou can scrap the\n",
    "required data as usual\n",
    "4. After scraping data from the first page, go to the “Next” Button at the bottom ofthe page , then\n",
    "click on it.\n",
    "5. Now scrape data from this page as usual\n",
    "6. Repeat this until you get data for 100 sunglasses."
   ]
  },
  {
   "cell_type": "code",
   "execution_count": 278,
   "id": "ef1029f2",
   "metadata": {},
   "outputs": [],
   "source": [
    "# import libraries\n",
    "import selenium #Library that is used to work with selenium\n",
    "import pandas as pd #to create dataframe\n",
    "from selenium import webdriver #importing webdriver module from selenium to open up automated chrome window\n",
    "import warnings #to ignore any sort of warning\n",
    "warnings.filterwarnings('ignore')\n",
    "import time #use to stop serach engine for few seconds"
   ]
  },
  {
   "cell_type": "code",
   "execution_count": 279,
   "id": "7e858b7a",
   "metadata": {},
   "outputs": [],
   "source": [
    "#lets first connect to the web driver\n",
    "driver=webdriver.Chrome(r\"C:\\Python\\chromedriver.exe\") #r will convert string to raw string"
   ]
  },
  {
   "cell_type": "code",
   "execution_count": 280,
   "id": "3fc75ffb",
   "metadata": {},
   "outputs": [],
   "source": [
    "driver=webdriver.Chrome(\"chromedriver.exe\")\n",
    "time.sleep(2)"
   ]
  },
  {
   "cell_type": "code",
   "execution_count": 281,
   "id": "ad650d6d",
   "metadata": {},
   "outputs": [],
   "source": [
    "#opening up flipkart.com website on a automated chrome window\n",
    "driver.get(\"https://www.flipkart.com/\")"
   ]
  },
  {
   "cell_type": "code",
   "execution_count": 282,
   "id": "9193a670",
   "metadata": {},
   "outputs": [],
   "source": [
    "#finding elements to search for\n",
    "search_fld=driver.find_element_by_class_name(\"_3704LK\") #prod search for\n",
    "search_fld.send_keys(\"Sunglasses\") #send_keys is a function to enter any data"
   ]
  },
  {
   "cell_type": "code",
   "execution_count": 284,
   "id": "d2e49759",
   "metadata": {},
   "outputs": [],
   "source": [
    "#clicking on search button\n",
    "search_button=driver.find_element_by_class_name(\"L0Z3Pu\")\n",
    "search_button.click()\n"
   ]
  },
  {
   "cell_type": "code",
   "execution_count": null,
   "id": "3d168842",
   "metadata": {},
   "outputs": [],
   "source": [
    " # creating empty list \n",
    "Prod_names=[]\n",
    "Prod_des=[]\n",
    "Price=[]\n",
    "Discount=[]\n",
    "page=0\n",
    "\n",
    "\n",
    "for i in range(1,4): #running for loop to run for 3 times\n",
    "    \n",
    "    page_url=\"https://www.flipkart.com/sunglasses/pr?sid=26x&marketplace=FLIPKART&page=\" + str(i)\n",
    "    driver.get(page_url)\n",
    "    prod_tag=driver.find_elements_by_xpath(\"//div[@class='_2WkVRV']\") #locating web element of prod\n",
    "    price_tag=driver.find_elements_by_xpath(\"//div[@class='_30jeq3']\") #locating web element of price\n",
    "    prod_description=driver.find_elements_by_xpath(\"//a[@class='IRpwTa']\") #locating web element of prod description\n",
    "    Discount_tag=driver.find_elements_by_xpath(\"//div[@class='_3Ay6Sb']\") #locating web element of discount\n",
    "\n",
    "    for i in prod_tag:\n",
    "        \n",
    "        Prod_names.append(i.text) #appending data(text) into the empty list for products\n",
    "\n",
    "            \n",
    "    for i in prod_description:\n",
    "        \n",
    "        Prod_des.append(i.text) #appending data(text) into the empty list for prod description\n",
    "\n",
    "\n",
    "            \n",
    "    for i in price_tag:\n",
    "        \n",
    "        Price.append(i.text) #appending data(text) into the empty list for price\n",
    "\n",
    "\n",
    "    for i in Discount_tag:\n",
    "        \n",
    "        Discount.append(i.text) #appending data(text) into the empty list for discounts\n",
    "\n",
    "            \n",
    "Prod_names"
   ]
  },
  {
   "cell_type": "code",
   "execution_count": 293,
   "id": "2d3fde9b",
   "metadata": {},
   "outputs": [
    {
     "data": {
      "text/plain": [
       "100"
      ]
     },
     "execution_count": 293,
     "metadata": {},
     "output_type": "execute_result"
    }
   ],
   "source": [
    "len(Price) #checking length"
   ]
  },
  {
   "cell_type": "code",
   "execution_count": 297,
   "id": "23615ee2",
   "metadata": {},
   "outputs": [
    {
     "data": {
      "text/html": [
       "<div>\n",
       "<style scoped>\n",
       "    .dataframe tbody tr th:only-of-type {\n",
       "        vertical-align: middle;\n",
       "    }\n",
       "\n",
       "    .dataframe tbody tr th {\n",
       "        vertical-align: top;\n",
       "    }\n",
       "\n",
       "    .dataframe thead th {\n",
       "        text-align: right;\n",
       "    }\n",
       "</style>\n",
       "<table border=\"1\" class=\"dataframe\">\n",
       "  <thead>\n",
       "    <tr style=\"text-align: right;\">\n",
       "      <th></th>\n",
       "      <th>Prod Names</th>\n",
       "      <th>Prod Description</th>\n",
       "      <th>Price</th>\n",
       "      <th>Discount</th>\n",
       "    </tr>\n",
       "  </thead>\n",
       "  <tbody>\n",
       "    <tr>\n",
       "      <th>0</th>\n",
       "      <td>Fastrack</td>\n",
       "      <td>UV Protection Wayfarer Sunglasses (Free Size)</td>\n",
       "      <td>₹649</td>\n",
       "      <td>27% off</td>\n",
       "    </tr>\n",
       "    <tr>\n",
       "      <th>1</th>\n",
       "      <td>Fastrack</td>\n",
       "      <td>UV Protection Rectangular Sunglasses (Free Size)</td>\n",
       "      <td>₹599</td>\n",
       "      <td>25% off</td>\n",
       "    </tr>\n",
       "    <tr>\n",
       "      <th>2</th>\n",
       "      <td>Elligator</td>\n",
       "      <td>UV Protection Round Sunglasses (54)</td>\n",
       "      <td>₹295</td>\n",
       "      <td>88% off</td>\n",
       "    </tr>\n",
       "    <tr>\n",
       "      <th>3</th>\n",
       "      <td>PIRASO</td>\n",
       "      <td>UV Protection Aviator Sunglasses (54)</td>\n",
       "      <td>₹236</td>\n",
       "      <td>85% off</td>\n",
       "    </tr>\n",
       "    <tr>\n",
       "      <th>4</th>\n",
       "      <td>Lee Topper</td>\n",
       "      <td>Riding Glasses Wrap-around Sunglasses (Free Size)</td>\n",
       "      <td>₹299</td>\n",
       "      <td>88% off</td>\n",
       "    </tr>\n",
       "    <tr>\n",
       "      <th>...</th>\n",
       "      <td>...</td>\n",
       "      <td>...</td>\n",
       "      <td>...</td>\n",
       "      <td>...</td>\n",
       "    </tr>\n",
       "    <tr>\n",
       "      <th>95</th>\n",
       "      <td>Rich Club</td>\n",
       "      <td>UV Protection, Polarized Round Sunglasses (50)</td>\n",
       "      <td>₹355</td>\n",
       "      <td>64% off</td>\n",
       "    </tr>\n",
       "    <tr>\n",
       "      <th>96</th>\n",
       "      <td>Lee Topper</td>\n",
       "      <td>Riding Glasses, Night Vision Wrap-around Sungl...</td>\n",
       "      <td>₹276</td>\n",
       "      <td>88% off</td>\n",
       "    </tr>\n",
       "    <tr>\n",
       "      <th>97</th>\n",
       "      <td>VINCENT CHASE</td>\n",
       "      <td>by Lenskart Polarized, UV Protection Rectangul...</td>\n",
       "      <td>₹749</td>\n",
       "      <td>62% off</td>\n",
       "    </tr>\n",
       "    <tr>\n",
       "      <th>98</th>\n",
       "      <td>Singco India</td>\n",
       "      <td>Gradient, Toughened Glass Lens, UV Protection ...</td>\n",
       "      <td>₹630</td>\n",
       "      <td>78% off</td>\n",
       "    </tr>\n",
       "    <tr>\n",
       "      <th>99</th>\n",
       "      <td>Fastrack</td>\n",
       "      <td>UV Protection Aviator Sunglasses (Free Size)</td>\n",
       "      <td>₹699</td>\n",
       "      <td>22% off</td>\n",
       "    </tr>\n",
       "  </tbody>\n",
       "</table>\n",
       "<p>100 rows × 4 columns</p>\n",
       "</div>"
      ],
      "text/plain": [
       "       Prod Names                                   Prod Description Price  \\\n",
       "0        Fastrack      UV Protection Wayfarer Sunglasses (Free Size)  ₹649   \n",
       "1        Fastrack   UV Protection Rectangular Sunglasses (Free Size)  ₹599   \n",
       "2       Elligator                UV Protection Round Sunglasses (54)  ₹295   \n",
       "3          PIRASO              UV Protection Aviator Sunglasses (54)  ₹236   \n",
       "4      Lee Topper  Riding Glasses Wrap-around Sunglasses (Free Size)  ₹299   \n",
       "..            ...                                                ...   ...   \n",
       "95      Rich Club     UV Protection, Polarized Round Sunglasses (50)  ₹355   \n",
       "96     Lee Topper  Riding Glasses, Night Vision Wrap-around Sungl...  ₹276   \n",
       "97  VINCENT CHASE  by Lenskart Polarized, UV Protection Rectangul...  ₹749   \n",
       "98   Singco India  Gradient, Toughened Glass Lens, UV Protection ...  ₹630   \n",
       "99       Fastrack       UV Protection Aviator Sunglasses (Free Size)  ₹699   \n",
       "\n",
       "   Discount  \n",
       "0   27% off  \n",
       "1   25% off  \n",
       "2   88% off  \n",
       "3   85% off  \n",
       "4   88% off  \n",
       "..      ...  \n",
       "95  64% off  \n",
       "96  88% off  \n",
       "97  62% off  \n",
       "98  78% off  \n",
       "99  22% off  \n",
       "\n",
       "[100 rows x 4 columns]"
      ]
     },
     "execution_count": 297,
     "metadata": {},
     "output_type": "execute_result"
    }
   ],
   "source": [
    "#creating dataframe\n",
    "sun=pd.DataFrame({})\n",
    "sun['Prod Names']=Prod_names\n",
    "sun['Prod Description']=Prod_des\n",
    "sun['Price']=Price\n",
    "sun['Discount']=Discount\n",
    "\n",
    "sun[0:100]"
   ]
  },
  {
   "cell_type": "code",
   "execution_count": 298,
   "id": "b7ed4e8c",
   "metadata": {},
   "outputs": [],
   "source": [
    "#closing the driver\n",
    "driver.close()"
   ]
  },
  {
   "cell_type": "markdown",
   "id": "a4eac2ae",
   "metadata": {},
   "source": [
    "# Q5: Scrape 100 reviews data from flipkart.com for iphone11 phone. You have to go the link:\n",
    "https://www.flipkart.com/apple-iphone-11-black-64-gb-includes- earpods-power\u0002adapter/p/itm0f37c2240b217?pid=MOBFKCTSVZAXUHGR&lid=LSTMOBFKC\n",
    "TSVZAXUHGREPBFGI&marketplace.\n",
    "When you will open the above link you will reach to the below shown webpage.\n",
    "As shown in the above page you have to scrape the tick marked attributes.These are:\n",
    "1. Rating\n",
    "2. Review summary\n",
    "3. Full review\n",
    "4. You have to scrape this data for first 100 reviews."
   ]
  },
  {
   "cell_type": "code",
   "execution_count": 760,
   "id": "99ea8cea",
   "metadata": {},
   "outputs": [],
   "source": [
    "import selenium #Library that is used to work with selenium\n",
    "import pandas as pd #to create dataframe\n",
    "from selenium import webdriver #importing webdriver module from selenium to open up automated chrome window\n",
    "import warnings #to ignore any sort of warning\n",
    "warnings.filterwarnings('ignore')\n",
    "import time #use to stop serach engine for few seconds\n"
   ]
  },
  {
   "cell_type": "code",
   "execution_count": 761,
   "id": "24df8e8b",
   "metadata": {},
   "outputs": [],
   "source": [
    "#lets first connect to the web driver\n",
    "driver=webdriver.Chrome(r\"C:\\Python\\chromedriver.exe\") #r will convert string to raw string"
   ]
  },
  {
   "cell_type": "code",
   "execution_count": 762,
   "id": "0703c25d",
   "metadata": {},
   "outputs": [],
   "source": [
    "driver=webdriver.Chrome(\"chromedriver.exe\")\n",
    "time.sleep(2)"
   ]
  },
  {
   "cell_type": "code",
   "execution_count": 763,
   "id": "fa71f118",
   "metadata": {},
   "outputs": [],
   "source": [
    "#opening up flipkart.com website on a automated chrome window\n",
    "driver.get(\"https://www.flipkart.com/apple-iphone-11-black-64-gb-includes-%20earpods-power%02adapter/p/itm0f37c2240b217?pid=MOBFKCTSVZAXUHGR&lid=LSTMOBFKC%20TSVZAXUHGREPBFGI&marketplace\")"
   ]
  },
  {
   "cell_type": "code",
   "execution_count": 764,
   "id": "f489de66",
   "metadata": {},
   "outputs": [],
   "source": [
    "#opening all reviews\n",
    "driver.find_element_by_xpath(\"//div[@class='_3UAT2v _16PBlm']\").click()"
   ]
  },
  {
   "cell_type": "code",
   "execution_count": 788,
   "id": "b0915576",
   "metadata": {},
   "outputs": [],
   "source": [
    " # creating empty list \n",
    "prod_ratings=[]\n",
    "prod_review_sum=[]\n",
    "prod_review_full=[]\n",
    "\n",
    "for i in range(1,11): #running for loop to run for 10 times\n",
    "\n",
    "    page_url=\"https://www.flipkart.com/apple-iphone-11-black-64-gb-includes-earpods-power-adapter/product-reviews/itm0f37c2240b217?pid=MOBFKCTSVZAXUHGR&lid=LSTMOBFKCTSVZAXUHGR3IXQLM&marketplace=FLIPKART&page=\" + str(i)\n",
    "    driver.get(page_url)\n",
    "    ratings_tag345=driver.find_elements_by_xpath(\"//div[@class='_3LWZlK _1BLPMq']\") #locating web element of rating\n",
    "    ratings_tag12=driver.find_elements_by_xpath(\"//div[@class='_3LWZlK _1rdVr6 _1BLPMq']\") #locating web element of rating\n",
    "    ratings_tag=ratings_tag345+ratings_tag12\n",
    "    Summary_tag=driver.find_elements_by_xpath(\"//p[@class='_2-N8zT']\") #locating web element of review summary\n",
    "    Full_rev_tag=driver.find_elements_by_xpath(\"//div[@class='t-ZTKy']\") #locating web element of review full\n",
    "\n",
    "\n",
    "    \n",
    "    for i in ratings_tag:\n",
    "        prod_ratings.append(i.text) #appending data(text) into the empty list for ratings\n",
    "\n",
    "            \n",
    "    for i in Summary_tag:\n",
    "        prod_review_sum.append(i.text) #appending data(text) into the empty list for prod reivew summary\n",
    "\n",
    "\n",
    "            \n",
    "    for i in Full_rev_tag:\n",
    "        prod_review_full.append(i.text) #appending data(text) into the empty list for price\n",
    "\n"
   ]
  },
  {
   "cell_type": "code",
   "execution_count": 789,
   "id": "67716dea",
   "metadata": {},
   "outputs": [
    {
     "data": {
      "text/html": [
       "<div>\n",
       "<style scoped>\n",
       "    .dataframe tbody tr th:only-of-type {\n",
       "        vertical-align: middle;\n",
       "    }\n",
       "\n",
       "    .dataframe tbody tr th {\n",
       "        vertical-align: top;\n",
       "    }\n",
       "\n",
       "    .dataframe thead th {\n",
       "        text-align: right;\n",
       "    }\n",
       "</style>\n",
       "<table border=\"1\" class=\"dataframe\">\n",
       "  <thead>\n",
       "    <tr style=\"text-align: right;\">\n",
       "      <th></th>\n",
       "      <th>Prod Ratings</th>\n",
       "      <th>Prod Review Summary</th>\n",
       "      <th>Prod Review Full</th>\n",
       "    </tr>\n",
       "  </thead>\n",
       "  <tbody>\n",
       "    <tr>\n",
       "      <th>0</th>\n",
       "      <td>5</td>\n",
       "      <td>Brilliant</td>\n",
       "      <td>The Best Phone for the Money\\n\\nThe iPhone 11 ...</td>\n",
       "    </tr>\n",
       "    <tr>\n",
       "      <th>1</th>\n",
       "      <td>5</td>\n",
       "      <td>Simply awesome</td>\n",
       "      <td>Really satisfied with the Product I received.....</td>\n",
       "    </tr>\n",
       "    <tr>\n",
       "      <th>2</th>\n",
       "      <td>5</td>\n",
       "      <td>Best in the market!</td>\n",
       "      <td>Great iPhone very snappy experience as apple k...</td>\n",
       "    </tr>\n",
       "    <tr>\n",
       "      <th>3</th>\n",
       "      <td>5</td>\n",
       "      <td>Perfect product!</td>\n",
       "      <td>Amazing phone with great cameras and better ba...</td>\n",
       "    </tr>\n",
       "    <tr>\n",
       "      <th>4</th>\n",
       "      <td>5</td>\n",
       "      <td>Fabulous!</td>\n",
       "      <td>This is my first iOS phone. I am very happy wi...</td>\n",
       "    </tr>\n",
       "    <tr>\n",
       "      <th>...</th>\n",
       "      <td>...</td>\n",
       "      <td>...</td>\n",
       "      <td>...</td>\n",
       "    </tr>\n",
       "    <tr>\n",
       "      <th>95</th>\n",
       "      <td>5</td>\n",
       "      <td>Excellent</td>\n",
       "      <td>Just go for it.\\nThis phone is really amazing....</td>\n",
       "    </tr>\n",
       "    <tr>\n",
       "      <th>96</th>\n",
       "      <td>5</td>\n",
       "      <td>Fabulous!</td>\n",
       "      <td>Gift this to your loved ones fabulous product ...</td>\n",
       "    </tr>\n",
       "    <tr>\n",
       "      <th>97</th>\n",
       "      <td>5</td>\n",
       "      <td>Super!</td>\n",
       "      <td>This is my first ever iPhone.\\nAnd I truly don...</td>\n",
       "    </tr>\n",
       "    <tr>\n",
       "      <th>98</th>\n",
       "      <td>5</td>\n",
       "      <td>Worth every penny</td>\n",
       "      <td>Undoubtedly Iphone 11 is the most successful m...</td>\n",
       "    </tr>\n",
       "    <tr>\n",
       "      <th>99</th>\n",
       "      <td>5</td>\n",
       "      <td>Fabulous!</td>\n",
       "      <td>I purchased the iPhone 11 a month back. I must...</td>\n",
       "    </tr>\n",
       "  </tbody>\n",
       "</table>\n",
       "<p>100 rows × 3 columns</p>\n",
       "</div>"
      ],
      "text/plain": [
       "   Prod Ratings  Prod Review Summary  \\\n",
       "0             5            Brilliant   \n",
       "1             5       Simply awesome   \n",
       "2             5  Best in the market!   \n",
       "3             5     Perfect product!   \n",
       "4             5            Fabulous!   \n",
       "..          ...                  ...   \n",
       "95            5            Excellent   \n",
       "96            5            Fabulous!   \n",
       "97            5               Super!   \n",
       "98            5    Worth every penny   \n",
       "99            5            Fabulous!   \n",
       "\n",
       "                                     Prod Review Full  \n",
       "0   The Best Phone for the Money\\n\\nThe iPhone 11 ...  \n",
       "1   Really satisfied with the Product I received.....  \n",
       "2   Great iPhone very snappy experience as apple k...  \n",
       "3   Amazing phone with great cameras and better ba...  \n",
       "4   This is my first iOS phone. I am very happy wi...  \n",
       "..                                                ...  \n",
       "95  Just go for it.\\nThis phone is really amazing....  \n",
       "96  Gift this to your loved ones fabulous product ...  \n",
       "97  This is my first ever iPhone.\\nAnd I truly don...  \n",
       "98  Undoubtedly Iphone 11 is the most successful m...  \n",
       "99  I purchased the iPhone 11 a month back. I must...  \n",
       "\n",
       "[100 rows x 3 columns]"
      ]
     },
     "execution_count": 789,
     "metadata": {},
     "output_type": "execute_result"
    }
   ],
   "source": [
    "#creating dataframe\n",
    "IP=pd.DataFrame({})\n",
    "IP['Prod Ratings']=prod_ratings\n",
    "IP['Prod Review Summary']=prod_review_sum\n",
    "IP['Prod Review Full']=prod_review_full\n",
    "\n",
    "IP[0:100]"
   ]
  },
  {
   "cell_type": "markdown",
   "id": "eecea551",
   "metadata": {},
   "source": [
    "# Q6: Scrape data for first 100 sneakers you find when you visit flipkart.com andsearch for “sneakers” in the search field.\n",
    "You have to scrape 4 attributes of each sneaker:\n",
    "1. Brand\n",
    "2. Product Description\n",
    "3. Price\n",
    "As shown in the below image, you have to scrape the tick marked attributes.\n",
    "\n"
   ]
  },
  {
   "cell_type": "code",
   "execution_count": 353,
   "id": "7cac5b6a",
   "metadata": {},
   "outputs": [],
   "source": [
    "# import libraries\n",
    "import selenium #Library that is used to work with selenium\n",
    "import pandas as pd #to create dataframe\n",
    "from selenium import webdriver #importing webdriver module from selenium to open up automated chrome window\n",
    "import warnings #to ignore any sort of warning\n",
    "warnings.filterwarnings('ignore')\n",
    "import time #use to stop serach engine for few seconds"
   ]
  },
  {
   "cell_type": "code",
   "execution_count": 354,
   "id": "3f1c38a8",
   "metadata": {},
   "outputs": [],
   "source": [
    "#lets first connect to the web driver\n",
    "driver=webdriver.Chrome(r\"C:\\Python\\chromedriver.exe\") #r will convert string to raw string"
   ]
  },
  {
   "cell_type": "code",
   "execution_count": 355,
   "id": "50c6b0ff",
   "metadata": {},
   "outputs": [],
   "source": [
    "driver=webdriver.Chrome(\"chromedriver.exe\")\n",
    "time.sleep(2)"
   ]
  },
  {
   "cell_type": "code",
   "execution_count": 356,
   "id": "b82bb63c",
   "metadata": {},
   "outputs": [],
   "source": [
    "#opening up flipkart.com website on a automated chrome window\n",
    "driver.get(\"https://www.flipkart.com/\")"
   ]
  },
  {
   "cell_type": "code",
   "execution_count": 357,
   "id": "b026c51d",
   "metadata": {},
   "outputs": [],
   "source": [
    "#finding elements to search for\n",
    "search_fld=driver.find_element_by_class_name(\"_3704LK\") #prod search for\n",
    "search_fld.send_keys(\"sneakers\") #send_keys is a function to enter any data"
   ]
  },
  {
   "cell_type": "code",
   "execution_count": 360,
   "id": "dd4497f1",
   "metadata": {},
   "outputs": [],
   "source": [
    "#clicking on search button\n",
    "search_button=driver.find_element_by_class_name(\"L0Z3Pu\")\n",
    "search_button.click()"
   ]
  },
  {
   "cell_type": "code",
   "execution_count": null,
   "id": "1fb3aa53",
   "metadata": {},
   "outputs": [],
   "source": [
    " # creating empty list \n",
    "Prod_sneak_names=[]\n",
    "Prod_sneak_des=[]\n",
    "Price_sneak=[]\n",
    "Discount_sneak=[]\n",
    "\n",
    "for i in range(1,4): #running for loop to run for 3 times\n",
    "    \n",
    "    page_url=\"flipkart.com/search?q=sneakers&otracker=search&otracker1=search&marketplace=FLIPKART&as-show=on&as=off&page=\" + str(i)\n",
    "    \n",
    "    prod_sneak_tag=driver.find_elements_by_xpath(\"//div[@class='_2WkVRV']\") #locating web element of prod\n",
    "    price_sneak_tag=driver.find_elements_by_xpath(\"//div[@class='_30jeq3']\") #locating web element of price\n",
    "    prod_sneak_description=driver.find_elements_by_xpath(\"//a[@class='IRpwTa']\") #locating web element of prod description\n",
    "    Discount_sneak_tag=driver.find_elements_by_xpath(\"//div[@class='_3Ay6Sb']\") #locating web element of discount\n",
    "\n",
    "    for i in prod_sneak_tag:\n",
    "        Prod_sneak_names.append(i.text) #appending data(text) into the empty list for products\n",
    "\n",
    "            \n",
    "    for i in prod_sneak_description:\n",
    "        Prod_sneak_des.append(i.text) #appending data(text) into the empty list for prod description\n",
    "\n",
    "\n",
    "            \n",
    "    for i in price_sneak_tag:\n",
    "        Price_sneak.append(i.text) #appending data(text) into the empty list for price\n",
    "\n",
    "\n",
    "    for i in Discount_sneak_tag:\n",
    "        Discount_sneak.append(i.text) #appending data(text) into the empty list for discounts\n",
    "\n",
    "            \n",
    "Prod_sneak_names[0:100]\n",
    "Prod_sneak_des[0:100]\n",
    "Price_sneak[0:100]\n",
    "Discount_sneak[0:100]"
   ]
  },
  {
   "cell_type": "code",
   "execution_count": 366,
   "id": "349168fc",
   "metadata": {},
   "outputs": [
    {
     "data": {
      "text/html": [
       "<div>\n",
       "<style scoped>\n",
       "    .dataframe tbody tr th:only-of-type {\n",
       "        vertical-align: middle;\n",
       "    }\n",
       "\n",
       "    .dataframe tbody tr th {\n",
       "        vertical-align: top;\n",
       "    }\n",
       "\n",
       "    .dataframe thead th {\n",
       "        text-align: right;\n",
       "    }\n",
       "</style>\n",
       "<table border=\"1\" class=\"dataframe\">\n",
       "  <thead>\n",
       "    <tr style=\"text-align: right;\">\n",
       "      <th></th>\n",
       "      <th>Prod Names</th>\n",
       "      <th>Prod Description</th>\n",
       "      <th>Price</th>\n",
       "      <th>Discount</th>\n",
       "    </tr>\n",
       "  </thead>\n",
       "  <tbody>\n",
       "    <tr>\n",
       "      <th>0</th>\n",
       "      <td>URBANBOX</td>\n",
       "      <td>STYLISH MENS BLACK SNEAKER Sneakers For Men</td>\n",
       "      <td>₹142</td>\n",
       "      <td>85% off</td>\n",
       "    </tr>\n",
       "    <tr>\n",
       "      <th>1</th>\n",
       "      <td>corsac</td>\n",
       "      <td>Sneakers For Men</td>\n",
       "      <td>₹424</td>\n",
       "      <td>71% off</td>\n",
       "    </tr>\n",
       "    <tr>\n",
       "      <th>2</th>\n",
       "      <td>Magnolia</td>\n",
       "      <td>STR2 Sneakers For Men</td>\n",
       "      <td>₹351</td>\n",
       "      <td>64% off</td>\n",
       "    </tr>\n",
       "    <tr>\n",
       "      <th>3</th>\n",
       "      <td>ONECENTRE</td>\n",
       "      <td>Kwik FIT casual sneaker shoes and partywear sh...</td>\n",
       "      <td>₹250</td>\n",
       "      <td>60% off</td>\n",
       "    </tr>\n",
       "    <tr>\n",
       "      <th>4</th>\n",
       "      <td>KWIK FIT</td>\n",
       "      <td>Canvas shoes for Men Sneakers For Men</td>\n",
       "      <td>₹349</td>\n",
       "      <td>82% off</td>\n",
       "    </tr>\n",
       "    <tr>\n",
       "      <th>...</th>\n",
       "      <td>...</td>\n",
       "      <td>...</td>\n",
       "      <td>...</td>\n",
       "      <td>...</td>\n",
       "    </tr>\n",
       "    <tr>\n",
       "      <th>95</th>\n",
       "      <td>Kraasa</td>\n",
       "      <td>Original Luxury Branded Black Fancy Casual Wal...</td>\n",
       "      <td>₹366</td>\n",
       "      <td>63% off</td>\n",
       "    </tr>\n",
       "    <tr>\n",
       "      <th>96</th>\n",
       "      <td>World Wear Footwear</td>\n",
       "      <td>Sneakers For Men</td>\n",
       "      <td>₹199</td>\n",
       "      <td>60% off</td>\n",
       "    </tr>\n",
       "    <tr>\n",
       "      <th>97</th>\n",
       "      <td>SCATCHITE</td>\n",
       "      <td>Perfect Combo Pack of 02 Pairs Casual Sneakers...</td>\n",
       "      <td>₹348</td>\n",
       "      <td>65% off</td>\n",
       "    </tr>\n",
       "    <tr>\n",
       "      <th>98</th>\n",
       "      <td>World Wear Footwear</td>\n",
       "      <td>Sneakers For Men</td>\n",
       "      <td>₹199</td>\n",
       "      <td>60% off</td>\n",
       "    </tr>\n",
       "    <tr>\n",
       "      <th>99</th>\n",
       "      <td>BRUTON</td>\n",
       "      <td>Stylish &amp; Trending Outdoor Walking Comfortable...</td>\n",
       "      <td>₹249</td>\n",
       "      <td>80% off</td>\n",
       "    </tr>\n",
       "  </tbody>\n",
       "</table>\n",
       "<p>100 rows × 4 columns</p>\n",
       "</div>"
      ],
      "text/plain": [
       "             Prod Names                                   Prod Description  \\\n",
       "0              URBANBOX        STYLISH MENS BLACK SNEAKER Sneakers For Men   \n",
       "1                corsac                                   Sneakers For Men   \n",
       "2              Magnolia                              STR2 Sneakers For Men   \n",
       "3             ONECENTRE  Kwik FIT casual sneaker shoes and partywear sh...   \n",
       "4              KWIK FIT              Canvas shoes for Men Sneakers For Men   \n",
       "..                  ...                                                ...   \n",
       "95               Kraasa  Original Luxury Branded Black Fancy Casual Wal...   \n",
       "96  World Wear Footwear                                   Sneakers For Men   \n",
       "97            SCATCHITE  Perfect Combo Pack of 02 Pairs Casual Sneakers...   \n",
       "98  World Wear Footwear                                   Sneakers For Men   \n",
       "99               BRUTON  Stylish & Trending Outdoor Walking Comfortable...   \n",
       "\n",
       "   Price Discount  \n",
       "0   ₹142  85% off  \n",
       "1   ₹424  71% off  \n",
       "2   ₹351  64% off  \n",
       "3   ₹250  60% off  \n",
       "4   ₹349  82% off  \n",
       "..   ...      ...  \n",
       "95  ₹366  63% off  \n",
       "96  ₹199  60% off  \n",
       "97  ₹348  65% off  \n",
       "98  ₹199  60% off  \n",
       "99  ₹249  80% off  \n",
       "\n",
       "[100 rows x 4 columns]"
      ]
     },
     "execution_count": 366,
     "metadata": {},
     "output_type": "execute_result"
    }
   ],
   "source": [
    "#creating dataframe\n",
    "Sneak=pd.DataFrame({})\n",
    "Sneak['Prod Names']=Prod_sneak_names[0:100]\n",
    "Sneak['Prod Description']=Prod_sneak_des[0:100]\n",
    "Sneak['Price']=Price_sneak[0:100]\n",
    "Sneak['Discount']=Discount_sneak[0:100]\n",
    "\n",
    "Sneak"
   ]
  },
  {
   "cell_type": "markdown",
   "id": "50ac99cc",
   "metadata": {},
   "source": [
    "# 7. Go to the link - https://www.myntra.com/shoes\n",
    "Set Price filter to “Rs. 7149 to Rs. 14099 ” , Color filter to “Black”, as shown inthe below image.\n",
    "And then scrape First 100 shoes data you get. The data should include “Brand” of the shoes , Short Shoe\n",
    "description, price of the shoe as shown in the below image"
   ]
  },
  {
   "cell_type": "code",
   "execution_count": 393,
   "id": "3784d138",
   "metadata": {},
   "outputs": [],
   "source": [
    "# import libraries\n",
    "import selenium #Library that is used to work with selenium\n",
    "import pandas as pd #to create dataframe\n",
    "from selenium import webdriver #importing webdriver module from selenium to open up automated chrome window\n",
    "import warnings #to ignore any sort of warning\n",
    "warnings.filterwarnings('ignore')\n",
    "import time #use to stop serach engine for few seconds"
   ]
  },
  {
   "cell_type": "code",
   "execution_count": 394,
   "id": "1ee171e0",
   "metadata": {},
   "outputs": [],
   "source": [
    "#lets first connect to the web driver\n",
    "driver=webdriver.Chrome(r\"C:\\Python\\chromedriver.exe\") #r will convert string to raw string"
   ]
  },
  {
   "cell_type": "code",
   "execution_count": 395,
   "id": "e7750347",
   "metadata": {},
   "outputs": [],
   "source": [
    "driver=webdriver.Chrome(\"chromedriver.exe\")\n",
    "time.sleep(2)"
   ]
  },
  {
   "cell_type": "code",
   "execution_count": 396,
   "id": "7007e363",
   "metadata": {},
   "outputs": [],
   "source": [
    "#opening up myntra.com website on a automated chrome window\n",
    "driver.get(\"https://www.myntra.com/shoes\")"
   ]
  },
  {
   "cell_type": "code",
   "execution_count": 397,
   "id": "6cb6852c",
   "metadata": {},
   "outputs": [],
   "source": [
    "#Color filter\n",
    "search_color=driver.find_element_by_xpath(\"/html/body/div[2]/div/div[1]/main/div[3]/div[1]/section/div/div[6]/ul/li[1]/label/div\").click()\n",
    "time.sleep(2)"
   ]
  },
  {
   "cell_type": "code",
   "execution_count": 398,
   "id": "19b51f0e",
   "metadata": {},
   "outputs": [],
   "source": [
    "#Price filter\n",
    "search_prc=driver.find_element_by_xpath(\"/html/body/div[2]/div/div[1]/main/div[3]/div[1]/section/div/div[5]/ul/li[2]/label/div\").click()\n",
    "time.sleep(2)"
   ]
  },
  {
   "cell_type": "code",
   "execution_count": null,
   "id": "47ea77d3",
   "metadata": {},
   "outputs": [],
   "source": [
    " # creating empty list \n",
    "brand=[]\n",
    "brd_prc=[]\n",
    "brd_des=[]\n",
    "\n",
    "for i in range(1,4): #running for loop to run for 3 times\n",
    "    \n",
    "    page_url=\"https://www.myntra.com/shoes?f=Color%3ABlack_36454f&p=2&rf=Price%3A7149.0_14099.0_7149.0%20TO%2014099.0%2C7187.0_14125.0_7187.0%20TO%2014125.0\"\n",
    "    \n",
    "    brand_tag=driver.find_elements_by_xpath(\"//h3[@class='product-brand']\") #locating web element of prod\n",
    "    brd_prc_tag=driver.find_elements_by_xpath(\"//div[@class='product-price']\") #locating web element of price\n",
    "    brd_des_description=driver.find_elements_by_xpath(\"//h4[@class='product-product']\") #locating web element of prod description\n",
    "    \n",
    "    for i in brand_tag:\n",
    "        brand.append(i.text) #appending data(text) into the empty list for products\n",
    "\n",
    "            \n",
    "    for i in brd_des_description:\n",
    "        brd_des.append(i.text) #appending data(text) into the empty list for prod description\n",
    "\n",
    "\n",
    "            \n",
    "    for i in brd_prc_tag:\n",
    "        prc=(i.text.split('Rs. ')[1])\n",
    "        brd_prc.append(str(\"Rs. \") + prc) #appending data(text) into the empty list for price\n",
    "        \n",
    "        \n",
    "         \n",
    "brd_prc[0:100]\n"
   ]
  },
  {
   "cell_type": "code",
   "execution_count": 410,
   "id": "5b05508b",
   "metadata": {},
   "outputs": [
    {
     "data": {
      "text/html": [
       "<div>\n",
       "<style scoped>\n",
       "    .dataframe tbody tr th:only-of-type {\n",
       "        vertical-align: middle;\n",
       "    }\n",
       "\n",
       "    .dataframe tbody tr th {\n",
       "        vertical-align: top;\n",
       "    }\n",
       "\n",
       "    .dataframe thead th {\n",
       "        text-align: right;\n",
       "    }\n",
       "</style>\n",
       "<table border=\"1\" class=\"dataframe\">\n",
       "  <thead>\n",
       "    <tr style=\"text-align: right;\">\n",
       "      <th></th>\n",
       "      <th>Prod Names</th>\n",
       "      <th>Prod Description</th>\n",
       "      <th>Price</th>\n",
       "    </tr>\n",
       "  </thead>\n",
       "  <tbody>\n",
       "    <tr>\n",
       "      <th>0</th>\n",
       "      <td>Nike</td>\n",
       "      <td>Men Winflo 7 Running Shoes</td>\n",
       "      <td>Rs. 7195</td>\n",
       "    </tr>\n",
       "    <tr>\n",
       "      <th>1</th>\n",
       "      <td>ALDO</td>\n",
       "      <td>Men Woven Design Sneakers</td>\n",
       "      <td>Rs. 13999</td>\n",
       "    </tr>\n",
       "    <tr>\n",
       "      <th>2</th>\n",
       "      <td>ALDO</td>\n",
       "      <td>Men Leather Driving Shoes</td>\n",
       "      <td>Rs. 12999</td>\n",
       "    </tr>\n",
       "    <tr>\n",
       "      <th>3</th>\n",
       "      <td>one8 x PUMA</td>\n",
       "      <td>Men Fuse One8 Training Shoes</td>\n",
       "      <td>Rs. 7999</td>\n",
       "    </tr>\n",
       "    <tr>\n",
       "      <th>4</th>\n",
       "      <td>ALDO</td>\n",
       "      <td>Men Leather Loafers</td>\n",
       "      <td>Rs. 12999</td>\n",
       "    </tr>\n",
       "    <tr>\n",
       "      <th>...</th>\n",
       "      <td>...</td>\n",
       "      <td>...</td>\n",
       "      <td>...</td>\n",
       "    </tr>\n",
       "    <tr>\n",
       "      <th>95</th>\n",
       "      <td>Puma</td>\n",
       "      <td>Unisex Leather Sneakers</td>\n",
       "      <td>Rs. 8499</td>\n",
       "    </tr>\n",
       "    <tr>\n",
       "      <th>96</th>\n",
       "      <td>New Balance</td>\n",
       "      <td>Women 680 Running Shoes</td>\n",
       "      <td>Rs. 7999</td>\n",
       "    </tr>\n",
       "    <tr>\n",
       "      <th>97</th>\n",
       "      <td>Tommy Hilfiger</td>\n",
       "      <td>Men Leather Sneakers</td>\n",
       "      <td>Rs. 7739</td>\n",
       "    </tr>\n",
       "    <tr>\n",
       "      <th>98</th>\n",
       "      <td>Tommy Hilfiger</td>\n",
       "      <td>Men Flexi Sneakers</td>\n",
       "      <td>Rs. 7199</td>\n",
       "    </tr>\n",
       "    <tr>\n",
       "      <th>99</th>\n",
       "      <td>Reebok</td>\n",
       "      <td>Men Zig Dynamica 2.0 Running</td>\n",
       "      <td>Rs. 7999</td>\n",
       "    </tr>\n",
       "  </tbody>\n",
       "</table>\n",
       "<p>100 rows × 3 columns</p>\n",
       "</div>"
      ],
      "text/plain": [
       "        Prod Names              Prod Description      Price\n",
       "0             Nike    Men Winflo 7 Running Shoes   Rs. 7195\n",
       "1             ALDO     Men Woven Design Sneakers  Rs. 13999\n",
       "2             ALDO     Men Leather Driving Shoes  Rs. 12999\n",
       "3      one8 x PUMA  Men Fuse One8 Training Shoes   Rs. 7999\n",
       "4             ALDO           Men Leather Loafers  Rs. 12999\n",
       "..             ...                           ...        ...\n",
       "95            Puma       Unisex Leather Sneakers   Rs. 8499\n",
       "96     New Balance       Women 680 Running Shoes   Rs. 7999\n",
       "97  Tommy Hilfiger          Men Leather Sneakers   Rs. 7739\n",
       "98  Tommy Hilfiger            Men Flexi Sneakers   Rs. 7199\n",
       "99          Reebok  Men Zig Dynamica 2.0 Running   Rs. 7999\n",
       "\n",
       "[100 rows x 3 columns]"
      ]
     },
     "execution_count": 410,
     "metadata": {},
     "output_type": "execute_result"
    }
   ],
   "source": [
    "#creating dataframe\n",
    "shoes=pd.DataFrame({})\n",
    "shoes['Prod Names']=brand[0:100]\n",
    "shoes['Prod Description']=brd_des[0:100]\n",
    "shoes['Price']=brd_prc[0:100]\n",
    "\n",
    "shoes\n"
   ]
  },
  {
   "cell_type": "markdown",
   "id": "51702d97",
   "metadata": {},
   "source": [
    "# Q8: Go to webpage https://www.amazon.in/\n",
    "Enter “Laptop” in the search field and then click the search icon.\n",
    "Then set CPU Type filter to “Intel Core i7” and “Intel Core i9” as shown in the below image:\n",
    "After setting the filters scrape first 10 laptops data. You have to scrape 3 attributesfor each laptop:\n",
    "1. Title\n",
    "2. Ratings\n",
    "3. Price\n",
    "As shown in the below image as the tick marked attributes."
   ]
  },
  {
   "cell_type": "code",
   "execution_count": 72,
   "id": "0ce42361",
   "metadata": {},
   "outputs": [],
   "source": [
    "# import libraries\n",
    "import selenium #Library that is used to work with selenium\n",
    "import pandas as pd #to create dataframe\n",
    "from selenium import webdriver #importing webdriver module from selenium to open up automated chrome window\n",
    "import warnings #to ignore any sort of warning\n",
    "warnings.filterwarnings('ignore')\n",
    "import time #use to stop serach engine for few seconds"
   ]
  },
  {
   "cell_type": "code",
   "execution_count": 73,
   "id": "0524f79a",
   "metadata": {},
   "outputs": [],
   "source": [
    "#lets first connect to the web driver\n",
    "driver=webdriver.Chrome(r\"C:\\Python\\chromedriver.exe\") #r will convert string to raw string"
   ]
  },
  {
   "cell_type": "code",
   "execution_count": 74,
   "id": "682bda3a",
   "metadata": {},
   "outputs": [],
   "source": [
    "driver=webdriver.Chrome(\"chromedriver.exe\")\n",
    "time.sleep(2)"
   ]
  },
  {
   "cell_type": "code",
   "execution_count": 75,
   "id": "73dad580",
   "metadata": {},
   "outputs": [],
   "source": [
    "#opening up myntra.com website on a automated chrome window\n",
    "driver.get(\"https://www.amazon.in/\")"
   ]
  },
  {
   "cell_type": "code",
   "execution_count": 76,
   "id": "c43e15c0",
   "metadata": {},
   "outputs": [],
   "source": [
    "#finding elements to search for\n",
    "search_lap=driver.find_element_by_xpath(\"/html/body/div[1]/header/div/div[1]/div[2]/div/form/div[2]/div[1]/input\") #prod search for\n",
    "search_lap.send_keys(\"Laptop\") #send_keys is a function to enter any data"
   ]
  },
  {
   "cell_type": "code",
   "execution_count": 77,
   "id": "c3e5c8fb",
   "metadata": {},
   "outputs": [],
   "source": [
    "#clicking on search button\n",
    "search_button=driver.find_element_by_xpath(\"/html/body/div[1]/header/div/div[1]/div[2]/div/form/div[3]/div/span/input\")\n",
    "search_button.click()"
   ]
  },
  {
   "cell_type": "code",
   "execution_count": 8,
   "id": "291d6ceb",
   "metadata": {},
   "outputs": [],
   "source": [
    "#Filter on Intel icore7\n",
    "search_cpu1=driver.find_element_by_xpath(\"/html/body/div[1]/div[2]/div[1]/div[2]/div/div[3]/span/div[1]/div/div/div[6]/ul[4]/li[12]/span/a/div/label/i\").click()\n",
    "time.sleep(2)"
   ]
  },
  {
   "cell_type": "code",
   "execution_count": null,
   "id": "ef609392",
   "metadata": {},
   "outputs": [],
   "source": [
    "Lap_titles=[]\n",
    "lap_title_tag=driver.find_elements_by_xpath(\"//h2[@class='a-size-mini a-spacing-none a-color-base s-line-clamp-2']\") #locating web element of title\n",
    "\n",
    "\n",
    "for i in lap_title_tag: #iterarting over web element of title\n",
    "    title=i.text    #extracting text from each web element\n",
    "    Lap_titles.append(title) #appending each extracted text into empty list\n",
    "Lap_titles[0:10] #printing top 10 data"
   ]
  },
  {
   "cell_type": "code",
   "execution_count": null,
   "id": "352e5ce4",
   "metadata": {},
   "outputs": [],
   "source": [
    "Lap_ratings=[]\n",
    "Lap_ratings_tag=driver.find_elements_by_xpath(\"//div[@class='a-row a-size-small']/span\") #locating web element of ratings\n",
    "\n",
    "for i in Lap_ratings_tag: #iterarting over web element of ratings\n",
    "    title=i.get_attribute('aria-label').replace(\" out of 5 stars\",\"\")   #extracting text from each web element\n",
    "    Lap_ratings.append(title) #appending each extracted text into empty list\n",
    "Lap_ratings[0:20:2] #printing top 10 data\n"
   ]
  },
  {
   "cell_type": "code",
   "execution_count": null,
   "id": "e6fb52cf",
   "metadata": {},
   "outputs": [],
   "source": [
    "Lap_Price=[]\n",
    "Lap_Price_tag=driver.find_elements_by_xpath(\"//span[@class='a-price-whole']\") #locating web element of price\n",
    "\n",
    "for i in Lap_Price_tag: #iterarting over web element of price\n",
    "    title=i.text    #extracting text from each web element\n",
    "    Lap_Price.append(title) #appending each extracted text into empty list\n",
    "Lap_Price[0:10] #printing top 10 data\n"
   ]
  },
  {
   "cell_type": "code",
   "execution_count": 34,
   "id": "2f67d3d4",
   "metadata": {},
   "outputs": [
    {
     "data": {
      "text/html": [
       "<div>\n",
       "<style scoped>\n",
       "    .dataframe tbody tr th:only-of-type {\n",
       "        vertical-align: middle;\n",
       "    }\n",
       "\n",
       "    .dataframe tbody tr th {\n",
       "        vertical-align: top;\n",
       "    }\n",
       "\n",
       "    .dataframe thead th {\n",
       "        text-align: right;\n",
       "    }\n",
       "</style>\n",
       "<table border=\"1\" class=\"dataframe\">\n",
       "  <thead>\n",
       "    <tr style=\"text-align: right;\">\n",
       "      <th></th>\n",
       "      <th>Title</th>\n",
       "      <th>Rating</th>\n",
       "      <th>Price</th>\n",
       "    </tr>\n",
       "  </thead>\n",
       "  <tbody>\n",
       "    <tr>\n",
       "      <th>0</th>\n",
       "      <td>Acer Predator Helios 300 11th Gen Intel Core i...</td>\n",
       "      <td>5.0</td>\n",
       "      <td>1,69,990</td>\n",
       "    </tr>\n",
       "    <tr>\n",
       "      <th>1</th>\n",
       "      <td>Mi Notebook Horizon Edition 14 Intel Core i7-1...</td>\n",
       "      <td>4.2</td>\n",
       "      <td>58,999</td>\n",
       "    </tr>\n",
       "    <tr>\n",
       "      <th>2</th>\n",
       "      <td>Mi Notebook Ultra 3.2K Resolution Display Inte...</td>\n",
       "      <td>4.3</td>\n",
       "      <td>77,999</td>\n",
       "    </tr>\n",
       "    <tr>\n",
       "      <th>3</th>\n",
       "      <td>Lenovo ThinkBook 15 Intel 11th Gen Core i7 15....</td>\n",
       "      <td>4.4</td>\n",
       "      <td>86,900</td>\n",
       "    </tr>\n",
       "    <tr>\n",
       "      <th>4</th>\n",
       "      <td>ASUS VivoBook 14 (2021), 14-inch (35.56 cms) F...</td>\n",
       "      <td>4.4</td>\n",
       "      <td>57,490</td>\n",
       "    </tr>\n",
       "    <tr>\n",
       "      <th>5</th>\n",
       "      <td>Samsung Galaxy Book2 Intel 12th Gen core i7 39...</td>\n",
       "      <td>3.0</td>\n",
       "      <td>79,990</td>\n",
       "    </tr>\n",
       "    <tr>\n",
       "      <th>6</th>\n",
       "      <td>ASUS TUF Gaming F15 (2021), 15.6\" (39.62 cms) ...</td>\n",
       "      <td>4.6</td>\n",
       "      <td>89,990</td>\n",
       "    </tr>\n",
       "    <tr>\n",
       "      <th>7</th>\n",
       "      <td>HP Pavilion x360 11th Gen Intel Core i7 14 inc...</td>\n",
       "      <td>4.0</td>\n",
       "      <td>85,890</td>\n",
       "    </tr>\n",
       "    <tr>\n",
       "      <th>8</th>\n",
       "      <td>HP Pavilion 15 12th Gen Intel Core i7 16GB SDR...</td>\n",
       "      <td>4.3</td>\n",
       "      <td>92,400</td>\n",
       "    </tr>\n",
       "    <tr>\n",
       "      <th>9</th>\n",
       "      <td>LG Gram 14 Intel Evo 11th Gen Core i7 14 inche...</td>\n",
       "      <td>5.0</td>\n",
       "      <td>85,999</td>\n",
       "    </tr>\n",
       "  </tbody>\n",
       "</table>\n",
       "</div>"
      ],
      "text/plain": [
       "                                               Title Rating     Price\n",
       "0  Acer Predator Helios 300 11th Gen Intel Core i...    5.0  1,69,990\n",
       "1  Mi Notebook Horizon Edition 14 Intel Core i7-1...    4.2    58,999\n",
       "2  Mi Notebook Ultra 3.2K Resolution Display Inte...    4.3    77,999\n",
       "3  Lenovo ThinkBook 15 Intel 11th Gen Core i7 15....    4.4    86,900\n",
       "4  ASUS VivoBook 14 (2021), 14-inch (35.56 cms) F...    4.4    57,490\n",
       "5  Samsung Galaxy Book2 Intel 12th Gen core i7 39...    3.0    79,990\n",
       "6  ASUS TUF Gaming F15 (2021), 15.6\" (39.62 cms) ...    4.6    89,990\n",
       "7  HP Pavilion x360 11th Gen Intel Core i7 14 inc...    4.0    85,890\n",
       "8  HP Pavilion 15 12th Gen Intel Core i7 16GB SDR...    4.3    92,400\n",
       "9  LG Gram 14 Intel Evo 11th Gen Core i7 14 inche...    5.0    85,999"
      ]
     },
     "execution_count": 34,
     "metadata": {},
     "output_type": "execute_result"
    }
   ],
   "source": [
    "#creating dataframe\n",
    "Lap=pd.DataFrame({})\n",
    "Lap['Title']=Lap_titles[0:10] \n",
    "Lap['Rating']=Lap_ratings[0:20:2] \n",
    "Lap['Price']=Lap_Price[0:10] \n",
    "\n",
    "\n",
    "Lap[:10]"
   ]
  },
  {
   "cell_type": "markdown",
   "id": "bd1aadd0",
   "metadata": {},
   "source": [
    "# Q9: Write a python program to scrape data for first 10 job results for Data Scientist Designation in Noida location. You have to scrape company name, No. of days ago when job was posted, Rating of the company.\n",
    "This task will be done in following steps:\n",
    "1. First get the webpage https://www.ambitionbox.com/\n",
    "2. Click on the Job option as shown in the image\n",
    "3. After reaching to the next webpage, In place of “Search by Designations, Companies, Skills” enter “Data Scientist” and click on search button.\n",
    "4. You will reach to the following web page click on location and in place of “Search location” enter\n",
    "“Noida” and select location “Noida”.\n",
    "5. Then scrape the data for the first 10 jobs results you get on the above shown page.\n",
    "6. Finally create a dataframe of the scraped data."
   ]
  },
  {
   "cell_type": "code",
   "execution_count": 570,
   "id": "de101491",
   "metadata": {},
   "outputs": [],
   "source": [
    "# import libraries\n",
    "import selenium #Library that is used to work with selenium\n",
    "import pandas as pd #to create dataframe\n",
    "from selenium import webdriver #importing webdriver module from selenium to open up automated chrome window\n",
    "import warnings #to ignore any sort of warning\n",
    "warnings.filterwarnings('ignore')\n",
    "import time #use to stop serach engine for few seconds\n"
   ]
  },
  {
   "cell_type": "code",
   "execution_count": 660,
   "id": "e5b6c1b9",
   "metadata": {},
   "outputs": [],
   "source": [
    "#lets first connect to the web driver\n",
    "driver=webdriver.Chrome(r\"C:\\Python\\chromedriver.exe\") #r will convert string to raw string"
   ]
  },
  {
   "cell_type": "code",
   "execution_count": 661,
   "id": "f1c875cf",
   "metadata": {},
   "outputs": [],
   "source": [
    "#opening up naukri.com website on a automated chrome window\n",
    "driver.get(\"https://www.ambitionbox.com/\")"
   ]
  },
  {
   "cell_type": "code",
   "execution_count": 662,
   "id": "ee52017d",
   "metadata": {},
   "outputs": [],
   "source": [
    "#finding elements for job search for\n",
    "search_job=driver.find_element_by_xpath(\"/html/body/section[6]/div/div[1]/a\").click() #click on job"
   ]
  },
  {
   "cell_type": "code",
   "execution_count": 663,
   "id": "c2a23175",
   "metadata": {},
   "outputs": [],
   "source": [
    "#designation\n",
    "search_field_desig=driver.find_element_by_xpath(\"/html/body/div/div/div/div[2]/div[1]/div[1]/div/div/div/div/span/input\") #job search for\n",
    "search_field_desig.send_keys(\"Data Scientist\") #send_keys is a function to enter any data"
   ]
  },
  {
   "cell_type": "code",
   "execution_count": 664,
   "id": "246822bf",
   "metadata": {},
   "outputs": [],
   "source": [
    "#clicking on search button\n",
    "search_button=driver.find_element_by_xpath(\"/html/body/div/div/div/div[2]/div[1]/div[1]/div/div/div/button\")\n",
    "search_button.click()"
   ]
  },
  {
   "cell_type": "code",
   "execution_count": 665,
   "id": "d4757484",
   "metadata": {},
   "outputs": [],
   "source": [
    "#click on location drop down\n",
    "drop_down=driver.find_element_by_xpath(\"/html/body/div/div/div/div[2]/div[1]/div[2]/div[1]/div/div/div/div[2]/div[1]/i\")\n",
    "drop_down.click()"
   ]
  },
  {
   "cell_type": "code",
   "execution_count": 666,
   "id": "db10e924",
   "metadata": {},
   "outputs": [],
   "source": [
    "search_loc=driver.find_element_by_xpath(\"/html/body/div/div/div/div[2]/div[1]/div[2]/div[1]/div/div/div/div[2]/div[2]/div/div[2]/input\")\n",
    "search_loc.send_keys(\"Noida\")"
   ]
  },
  {
   "cell_type": "code",
   "execution_count": 667,
   "id": "759b8693",
   "metadata": {},
   "outputs": [],
   "source": [
    "location_button=driver.find_element_by_xpath(\"/html/body/div/div/div/div[2]/div[1]/div[2]/div[1]/div/div/div/div[2]/div[2]/div/div[3]/div[1]/div[1]/div/input\")\n",
    "location_button.click()"
   ]
  },
  {
   "cell_type": "code",
   "execution_count": null,
   "id": "dc92bfd8",
   "metadata": {},
   "outputs": [],
   "source": [
    "comp=[]\n",
    "comp_name=driver.find_elements_by_xpath(\"//p[@class='company body-medium']\")\n",
    "for i in comp_name: #iterarting over web element of company name\n",
    "    title=i.text\n",
    "    #title=i.text    #extracting text from each web element\n",
    "    comp.append(title) #appending each extracted text into empty list\n",
    "comp #printing top 10 data"
   ]
  },
  {
   "cell_type": "code",
   "execution_count": null,
   "id": "557305ce",
   "metadata": {},
   "outputs": [],
   "source": [
    "comp_rating=driver.find_elements_by_xpath(\"//span[@class='body-small']\")\n",
    "rating=[]\n",
    "\n",
    "for i in comp_rating: #iterarting over web element of company rating\n",
    "    title=i.text\n",
    "    #title=i.text    #extracting text from each web element\n",
    "    rating.append(title) #appending each extracted text into empty list\n",
    "rating #printing top 10 data"
   ]
  },
  {
   "cell_type": "code",
   "execution_count": null,
   "id": "87c537ff",
   "metadata": {},
   "outputs": [],
   "source": [
    "days_posted=driver.find_elements_by_xpath(\"//span[1][@class='body-small-l']\")\n",
    "Posted=[]\n",
    "\n",
    "for i in days_posted: #iterarting over web element of days posted\n",
    "    title=i.text\n",
    "    #title=i.text    #extracting text from each web element\n",
    "    Posted.append(title) #appending each extracted text into empty list\n",
    "Posted #printing top 10 data"
   ]
  },
  {
   "cell_type": "code",
   "execution_count": 672,
   "id": "5f3bc437",
   "metadata": {},
   "outputs": [
    {
     "data": {
      "text/html": [
       "<div>\n",
       "<style scoped>\n",
       "    .dataframe tbody tr th:only-of-type {\n",
       "        vertical-align: middle;\n",
       "    }\n",
       "\n",
       "    .dataframe tbody tr th {\n",
       "        vertical-align: top;\n",
       "    }\n",
       "\n",
       "    .dataframe thead th {\n",
       "        text-align: right;\n",
       "    }\n",
       "</style>\n",
       "<table border=\"1\" class=\"dataframe\">\n",
       "  <thead>\n",
       "    <tr style=\"text-align: right;\">\n",
       "      <th></th>\n",
       "      <th>Company</th>\n",
       "      <th>Rating</th>\n",
       "      <th>Day Posted</th>\n",
       "    </tr>\n",
       "  </thead>\n",
       "  <tbody>\n",
       "    <tr>\n",
       "      <th>0</th>\n",
       "      <td>GENPACT India Private Limited</td>\n",
       "      <td>4.0</td>\n",
       "      <td>12d ago</td>\n",
       "    </tr>\n",
       "    <tr>\n",
       "      <th>1</th>\n",
       "      <td>EXL Services.com ( I ) Pvt. Ltd.</td>\n",
       "      <td>3.9</td>\n",
       "      <td>5d ago</td>\n",
       "    </tr>\n",
       "    <tr>\n",
       "      <th>2</th>\n",
       "      <td>GENPACT India Private Limited</td>\n",
       "      <td>4.0</td>\n",
       "      <td>17d ago</td>\n",
       "    </tr>\n",
       "    <tr>\n",
       "      <th>3</th>\n",
       "      <td>TECHNIP GLOBAL BUSINESS SERVICES PRIVATE LIMITED</td>\n",
       "      <td>3.9</td>\n",
       "      <td>3d ago</td>\n",
       "    </tr>\n",
       "    <tr>\n",
       "      <th>4</th>\n",
       "      <td>Tech Mahindra Ltd</td>\n",
       "      <td>3.7</td>\n",
       "      <td>1mon ago</td>\n",
       "    </tr>\n",
       "    <tr>\n",
       "      <th>5</th>\n",
       "      <td>GENPACT India Private Limited</td>\n",
       "      <td>4.0</td>\n",
       "      <td>1mon ago</td>\n",
       "    </tr>\n",
       "    <tr>\n",
       "      <th>6</th>\n",
       "      <td>Bristlecone India Limited</td>\n",
       "      <td>3.8</td>\n",
       "      <td>12d ago</td>\n",
       "    </tr>\n",
       "    <tr>\n",
       "      <th>7</th>\n",
       "      <td>Zyoin</td>\n",
       "      <td>4.1</td>\n",
       "      <td>16d ago</td>\n",
       "    </tr>\n",
       "    <tr>\n",
       "      <th>8</th>\n",
       "      <td>Ashkom Media India Private Limited</td>\n",
       "      <td>3.7</td>\n",
       "      <td>3d ago</td>\n",
       "    </tr>\n",
       "    <tr>\n",
       "      <th>9</th>\n",
       "      <td>Newgen Software Technologies Ltd.</td>\n",
       "      <td>3.5</td>\n",
       "      <td>18d ago</td>\n",
       "    </tr>\n",
       "  </tbody>\n",
       "</table>\n",
       "</div>"
      ],
      "text/plain": [
       "                                            Company Rating Day Posted\n",
       "0                     GENPACT India Private Limited    4.0    12d ago\n",
       "1                  EXL Services.com ( I ) Pvt. Ltd.    3.9     5d ago\n",
       "2                     GENPACT India Private Limited    4.0    17d ago\n",
       "3  TECHNIP GLOBAL BUSINESS SERVICES PRIVATE LIMITED    3.9     3d ago\n",
       "4                                 Tech Mahindra Ltd    3.7   1mon ago\n",
       "5                     GENPACT India Private Limited    4.0   1mon ago\n",
       "6                         Bristlecone India Limited    3.8    12d ago\n",
       "7                                             Zyoin    4.1    16d ago\n",
       "8                Ashkom Media India Private Limited    3.7     3d ago\n",
       "9                 Newgen Software Technologies Ltd.    3.5    18d ago"
      ]
     },
     "execution_count": 672,
     "metadata": {},
     "output_type": "execute_result"
    }
   ],
   "source": [
    "#creating dataframe\n",
    "Company=pd.DataFrame({})\n",
    "Company['Company']=comp\n",
    "Company['Rating']=rating\n",
    "Company['Day Posted']=Posted\n",
    "\n",
    "Company[:10]"
   ]
  },
  {
   "cell_type": "markdown",
   "id": "ca0fb29b",
   "metadata": {},
   "source": [
    "# Q10: Write a python program to scrape the salary data for Data Scientist designation.\n",
    "You have to scrape Company name, Number of salaries, Average salary, Minsalary, Max Salary.\n",
    "The above task will be, done as shown in the below steps:\n",
    "1. First get the webpage https://www.ambitionbox.com/\n",
    "2. Click on the salaries option as shown in the image.\n",
    "3. After reaching to the following webpage, In place of “Search Job Profile” enters “Data Scientist” and\n",
    "then click on “Data Scientist”.\n",
    "You have to scrape the data ticked in the above image.\n",
    "4. Scrape the data for the first 10 companies. Scrape the company name, total salary record, average\n",
    "salary, minimum salary, maximum salary, experience required.\n",
    "5. Store the data in a dataframe."
   ]
  },
  {
   "cell_type": "code",
   "execution_count": 722,
   "id": "37adafe5",
   "metadata": {},
   "outputs": [],
   "source": [
    "# import libraries\n",
    "import selenium #Library that is used to work with selenium\n",
    "import pandas as pd #to create dataframe\n",
    "from selenium import webdriver #importing webdriver module from selenium to open up automated chrome window\n",
    "import warnings #to ignore any sort of warning\n",
    "warnings.filterwarnings('ignore')\n",
    "import time #use to stop serach engine for few seconds\n"
   ]
  },
  {
   "cell_type": "code",
   "execution_count": 723,
   "id": "05513b35",
   "metadata": {},
   "outputs": [],
   "source": [
    "#lets first connect to the web driver\n",
    "driver=webdriver.Chrome(r\"C:\\Python\\chromedriver.exe\") #r will convert string to raw string"
   ]
  },
  {
   "cell_type": "code",
   "execution_count": 724,
   "id": "e1729267",
   "metadata": {},
   "outputs": [],
   "source": [
    "#opening up naukri.com website on a automated chrome window\n",
    "driver.get(\"https://www.ambitionbox.com/\")"
   ]
  },
  {
   "cell_type": "code",
   "execution_count": 725,
   "id": "927237a6",
   "metadata": {},
   "outputs": [],
   "source": [
    "#finding elements for job search for\n",
    "search_job=driver.find_element_by_xpath(\"/html/body/section[3]/div/div[1]/a\").click() #click on job"
   ]
  },
  {
   "cell_type": "code",
   "execution_count": 726,
   "id": "76d3480b",
   "metadata": {},
   "outputs": [],
   "source": [
    "#designation\n",
    "search_field_desig=driver.find_element_by_xpath(\"/html/body/div/div/div/main/section[1]/div[2]/div[1]/span/input\") #job search for\n",
    "search_field_desig.send_keys(\"Data Scientist\") #send_keys is a function to enter any data"
   ]
  },
  {
   "cell_type": "code",
   "execution_count": 727,
   "id": "84a1576e",
   "metadata": {},
   "outputs": [],
   "source": [
    "#clicking on search button\n",
    "click_op=driver.find_element_by_xpath(\"/html/body/div/div/div/main/section[1]/div[2]/div[1]/span/div/div/div[1]\")\n",
    "click_op.click()"
   ]
  },
  {
   "cell_type": "code",
   "execution_count": null,
   "id": "5846c70f",
   "metadata": {},
   "outputs": [],
   "source": [
    "Name=driver.find_elements_by_xpath(\"//div[1][@class='name']/a\")\n",
    "Company_name=[]\n",
    "\n",
    "for i in Name: #iterarting over web element of Company name\n",
    "    title=i.text\n",
    "    #title=i.text    #extracting text from each web element\n",
    "    Company_name.append(title) #appending each extracted text into empty list\n",
    "Company_name #printing data"
   ]
  },
  {
   "cell_type": "code",
   "execution_count": null,
   "id": "7ba5ab7c",
   "metadata": {},
   "outputs": [],
   "source": [
    "salaries=driver.find_elements_by_xpath(\"//div[1][@class='name']/span\")\n",
    "Salary_record=[]\n",
    "\n",
    "for i in salaries: #iterarting over web element of salary record\n",
    "    title=i.text.replace(\"based on \",\"\")\n",
    "    #title=i.text    #extracting text from each web element\n",
    "    Salary_record.append(title) #appending each extracted text into empty list\n",
    "Salary_record #printing data"
   ]
  },
  {
   "cell_type": "code",
   "execution_count": null,
   "id": "2950fe79",
   "metadata": {},
   "outputs": [],
   "source": [
    "exp=driver.find_elements_by_xpath(\"//div[@class='salaries sbold-list-header']\")\n",
    "Experience=[]\n",
    "\n",
    "for i in exp: #iterarting over web element of experience\n",
    "    title=i.text.replace(\"Data Scientist\\n . \\n\",\"\")\n",
    "    #title=i.text    #extracting text from each web element\n",
    "    Experience.append(title) #appending each extracted text into empty list\n",
    "Experience #printing data"
   ]
  },
  {
   "cell_type": "code",
   "execution_count": null,
   "id": "b78e849c",
   "metadata": {},
   "outputs": [],
   "source": [
    "Avg_sal=driver.find_elements_by_xpath(\"//p[@class='averageCtc']\")\n",
    "Avg_salary=[]\n",
    "\n",
    "for i in Avg_sal: #iterarting over web element of avg salary\n",
    "    title=i.text\n",
    "    #title=i.text    #extracting text from each web element\n",
    "    Avg_salary.append(title) #appending each extracted text into empty list\n",
    "Avg_salary #printing data"
   ]
  },
  {
   "cell_type": "code",
   "execution_count": null,
   "id": "bc7fd5d4",
   "metadata": {},
   "outputs": [],
   "source": [
    "min_sal=driver.find_elements_by_xpath(\"//div[1][@class='value body-medium']\")\n",
    "min_salary=[]\n",
    "\n",
    "for i in min_sal: #iterarting over web element of min salary\n",
    "    title=i.text\n",
    "    #title=i.text    #extracting text from each web element\n",
    "    min_salary.append(title) #appending each extracted text into empty list\n",
    "min_salary #printing data"
   ]
  },
  {
   "cell_type": "code",
   "execution_count": null,
   "id": "d0fe6b41",
   "metadata": {},
   "outputs": [],
   "source": [
    "max_sal=driver.find_elements_by_xpath(\"//div[2][@class='value body-medium']\")\n",
    "max_salary=[]\n",
    "\n",
    "for i in max_sal: #iterarting over web element of max salary\n",
    "    title=i.text\n",
    "    #title=i.text    #extracting text from each web element\n",
    "    max_salary.append(title) #appending each extracted text into empty list\n",
    "max_salary #printing data"
   ]
  },
  {
   "cell_type": "code",
   "execution_count": 751,
   "id": "7546f62d",
   "metadata": {},
   "outputs": [
    {
     "data": {
      "text/html": [
       "<div>\n",
       "<style scoped>\n",
       "    .dataframe tbody tr th:only-of-type {\n",
       "        vertical-align: middle;\n",
       "    }\n",
       "\n",
       "    .dataframe tbody tr th {\n",
       "        vertical-align: top;\n",
       "    }\n",
       "\n",
       "    .dataframe thead th {\n",
       "        text-align: right;\n",
       "    }\n",
       "</style>\n",
       "<table border=\"1\" class=\"dataframe\">\n",
       "  <thead>\n",
       "    <tr style=\"text-align: right;\">\n",
       "      <th></th>\n",
       "      <th>Company Name</th>\n",
       "      <th>Experience</th>\n",
       "      <th>Salary Record</th>\n",
       "      <th>Average Salary</th>\n",
       "      <th>Min Salary</th>\n",
       "      <th>Max Salary</th>\n",
       "    </tr>\n",
       "  </thead>\n",
       "  <tbody>\n",
       "    <tr>\n",
       "      <th>0</th>\n",
       "      <td>Walmart</td>\n",
       "      <td>3 yrs exp</td>\n",
       "      <td>11 salaries</td>\n",
       "      <td>₹ 29.7L</td>\n",
       "      <td>₹ 25.0L</td>\n",
       "      <td>₹ 35.0L</td>\n",
       "    </tr>\n",
       "    <tr>\n",
       "      <th>1</th>\n",
       "      <td>Ab Inbev</td>\n",
       "      <td>3-4 yrs exp</td>\n",
       "      <td>32 salaries</td>\n",
       "      <td>₹ 20.5L</td>\n",
       "      <td>₹ 15.0L</td>\n",
       "      <td>₹ 25.5L</td>\n",
       "    </tr>\n",
       "    <tr>\n",
       "      <th>2</th>\n",
       "      <td>Reliance Jio</td>\n",
       "      <td>4 yrs exp</td>\n",
       "      <td>10 salaries</td>\n",
       "      <td>₹ 18.9L</td>\n",
       "      <td>₹ 5.6L</td>\n",
       "      <td>₹ 26.2L</td>\n",
       "    </tr>\n",
       "    <tr>\n",
       "      <th>3</th>\n",
       "      <td>ZS</td>\n",
       "      <td>2 yrs exp</td>\n",
       "      <td>15 salaries</td>\n",
       "      <td>₹ 15.9L</td>\n",
       "      <td>₹ 9.8L</td>\n",
       "      <td>₹ 20.0L</td>\n",
       "    </tr>\n",
       "    <tr>\n",
       "      <th>4</th>\n",
       "      <td>Optum</td>\n",
       "      <td>3-4 yrs exp</td>\n",
       "      <td>27 salaries</td>\n",
       "      <td>₹ 15.2L</td>\n",
       "      <td>₹ 11.0L</td>\n",
       "      <td>₹ 22.0L</td>\n",
       "    </tr>\n",
       "    <tr>\n",
       "      <th>5</th>\n",
       "      <td>Fractal Analytics</td>\n",
       "      <td>2-4 yrs exp</td>\n",
       "      <td>81 salaries</td>\n",
       "      <td>₹ 15.2L</td>\n",
       "      <td>₹ 9.5L</td>\n",
       "      <td>₹ 22.0L</td>\n",
       "    </tr>\n",
       "    <tr>\n",
       "      <th>6</th>\n",
       "      <td>Tiger Analytics</td>\n",
       "      <td>2-4 yrs exp</td>\n",
       "      <td>46 salaries</td>\n",
       "      <td>₹ 14.8L</td>\n",
       "      <td>₹ 9.0L</td>\n",
       "      <td>₹ 20.0L</td>\n",
       "    </tr>\n",
       "    <tr>\n",
       "      <th>7</th>\n",
       "      <td>UnitedHealth</td>\n",
       "      <td>2-4 yrs exp</td>\n",
       "      <td>53 salaries</td>\n",
       "      <td>₹ 14.0L</td>\n",
       "      <td>₹ 8.3L</td>\n",
       "      <td>₹ 20.5L</td>\n",
       "    </tr>\n",
       "    <tr>\n",
       "      <th>8</th>\n",
       "      <td>Verizon</td>\n",
       "      <td>4 yrs exp</td>\n",
       "      <td>14 salaries</td>\n",
       "      <td>₹ 12.7L</td>\n",
       "      <td>₹ 10.0L</td>\n",
       "      <td>₹ 21.0L</td>\n",
       "    </tr>\n",
       "    <tr>\n",
       "      <th>9</th>\n",
       "      <td>Ganit Business Solutions</td>\n",
       "      <td>4 yrs exp</td>\n",
       "      <td>13 salaries</td>\n",
       "      <td>₹ 12.4L</td>\n",
       "      <td>₹ 8.5L</td>\n",
       "      <td>₹ 15.0L</td>\n",
       "    </tr>\n",
       "  </tbody>\n",
       "</table>\n",
       "</div>"
      ],
      "text/plain": [
       "               Company Name   Experience Salary Record Average Salary  \\\n",
       "0                   Walmart    3 yrs exp   11 salaries        ₹ 29.7L   \n",
       "1                  Ab Inbev  3-4 yrs exp   32 salaries        ₹ 20.5L   \n",
       "2              Reliance Jio    4 yrs exp   10 salaries        ₹ 18.9L   \n",
       "3                        ZS    2 yrs exp   15 salaries        ₹ 15.9L   \n",
       "4                     Optum  3-4 yrs exp   27 salaries        ₹ 15.2L   \n",
       "5         Fractal Analytics  2-4 yrs exp   81 salaries        ₹ 15.2L   \n",
       "6           Tiger Analytics  2-4 yrs exp   46 salaries        ₹ 14.8L   \n",
       "7              UnitedHealth  2-4 yrs exp   53 salaries        ₹ 14.0L   \n",
       "8                   Verizon    4 yrs exp   14 salaries        ₹ 12.7L   \n",
       "9  Ganit Business Solutions    4 yrs exp   13 salaries        ₹ 12.4L   \n",
       "\n",
       "  Min Salary Max Salary  \n",
       "0    ₹ 25.0L    ₹ 35.0L  \n",
       "1    ₹ 15.0L    ₹ 25.5L  \n",
       "2     ₹ 5.6L    ₹ 26.2L  \n",
       "3     ₹ 9.8L    ₹ 20.0L  \n",
       "4    ₹ 11.0L    ₹ 22.0L  \n",
       "5     ₹ 9.5L    ₹ 22.0L  \n",
       "6     ₹ 9.0L    ₹ 20.0L  \n",
       "7     ₹ 8.3L    ₹ 20.5L  \n",
       "8    ₹ 10.0L    ₹ 21.0L  \n",
       "9     ₹ 8.5L    ₹ 15.0L  "
      ]
     },
     "execution_count": 751,
     "metadata": {},
     "output_type": "execute_result"
    }
   ],
   "source": [
    "#creating dataframe\n",
    "Salary=pd.DataFrame({})\n",
    "Salary['Company Name']=Company_name\n",
    "Salary['Experience']=Experience\n",
    "Salary['Salary Record']=Salary_record\n",
    "Salary['Average Salary']=Avg_salary\n",
    "Salary['Min Salary']=min_salary\n",
    "Salary['Max Salary']=max_salary\n",
    "\n",
    "Salary"
   ]
  },
  {
   "cell_type": "code",
   "execution_count": null,
   "id": "6d4a54c1",
   "metadata": {},
   "outputs": [],
   "source": []
  },
  {
   "cell_type": "code",
   "execution_count": null,
   "id": "89aa0ef1",
   "metadata": {},
   "outputs": [],
   "source": []
  },
  {
   "cell_type": "code",
   "execution_count": null,
   "id": "af011cb5",
   "metadata": {},
   "outputs": [],
   "source": []
  },
  {
   "cell_type": "code",
   "execution_count": null,
   "id": "1362e6a8",
   "metadata": {},
   "outputs": [],
   "source": []
  },
  {
   "cell_type": "code",
   "execution_count": null,
   "id": "ec1c1cc6",
   "metadata": {},
   "outputs": [],
   "source": []
  },
  {
   "cell_type": "code",
   "execution_count": null,
   "id": "b183797b",
   "metadata": {},
   "outputs": [],
   "source": []
  },
  {
   "cell_type": "code",
   "execution_count": null,
   "id": "156df6ac",
   "metadata": {},
   "outputs": [],
   "source": []
  },
  {
   "cell_type": "code",
   "execution_count": null,
   "id": "ffc93453",
   "metadata": {},
   "outputs": [],
   "source": []
  },
  {
   "cell_type": "code",
   "execution_count": null,
   "id": "0be3387d",
   "metadata": {},
   "outputs": [],
   "source": []
  },
  {
   "cell_type": "code",
   "execution_count": null,
   "id": "eaa07c21",
   "metadata": {},
   "outputs": [],
   "source": []
  },
  {
   "cell_type": "code",
   "execution_count": null,
   "id": "277dd9a4",
   "metadata": {},
   "outputs": [],
   "source": []
  },
  {
   "cell_type": "code",
   "execution_count": null,
   "id": "04b1c41b",
   "metadata": {},
   "outputs": [],
   "source": []
  },
  {
   "cell_type": "code",
   "execution_count": null,
   "id": "93d8f323",
   "metadata": {},
   "outputs": [],
   "source": []
  },
  {
   "cell_type": "code",
   "execution_count": null,
   "id": "0842eb08",
   "metadata": {},
   "outputs": [],
   "source": []
  },
  {
   "cell_type": "code",
   "execution_count": null,
   "id": "640ab058",
   "metadata": {},
   "outputs": [],
   "source": []
  },
  {
   "cell_type": "code",
   "execution_count": null,
   "id": "3513514d",
   "metadata": {},
   "outputs": [],
   "source": []
  },
  {
   "cell_type": "code",
   "execution_count": null,
   "id": "bb36d94e",
   "metadata": {},
   "outputs": [],
   "source": []
  },
  {
   "cell_type": "code",
   "execution_count": null,
   "id": "e0ad6e71",
   "metadata": {},
   "outputs": [],
   "source": []
  },
  {
   "cell_type": "code",
   "execution_count": null,
   "id": "520c80f7",
   "metadata": {},
   "outputs": [],
   "source": []
  },
  {
   "cell_type": "code",
   "execution_count": null,
   "id": "1aad4813",
   "metadata": {},
   "outputs": [],
   "source": []
  },
  {
   "cell_type": "code",
   "execution_count": null,
   "id": "612a5440",
   "metadata": {},
   "outputs": [],
   "source": []
  },
  {
   "cell_type": "code",
   "execution_count": null,
   "id": "4ac97409",
   "metadata": {},
   "outputs": [],
   "source": []
  },
  {
   "cell_type": "code",
   "execution_count": null,
   "id": "49fa4ec0",
   "metadata": {},
   "outputs": [],
   "source": []
  },
  {
   "cell_type": "code",
   "execution_count": null,
   "id": "e3107d48",
   "metadata": {},
   "outputs": [],
   "source": []
  },
  {
   "cell_type": "code",
   "execution_count": null,
   "id": "04dba141",
   "metadata": {},
   "outputs": [],
   "source": []
  },
  {
   "cell_type": "code",
   "execution_count": null,
   "id": "e9194e80",
   "metadata": {},
   "outputs": [],
   "source": []
  },
  {
   "cell_type": "code",
   "execution_count": null,
   "id": "e3b85a19",
   "metadata": {},
   "outputs": [],
   "source": []
  },
  {
   "cell_type": "code",
   "execution_count": null,
   "id": "9f2e104d",
   "metadata": {},
   "outputs": [],
   "source": []
  },
  {
   "cell_type": "code",
   "execution_count": null,
   "id": "73da0f59",
   "metadata": {},
   "outputs": [],
   "source": []
  },
  {
   "cell_type": "code",
   "execution_count": null,
   "id": "44cc1f3d",
   "metadata": {},
   "outputs": [],
   "source": []
  },
  {
   "cell_type": "code",
   "execution_count": null,
   "id": "f95d5a16",
   "metadata": {},
   "outputs": [],
   "source": []
  },
  {
   "cell_type": "code",
   "execution_count": null,
   "id": "a5a22724",
   "metadata": {},
   "outputs": [],
   "source": []
  },
  {
   "cell_type": "code",
   "execution_count": null,
   "id": "08b6b5c1",
   "metadata": {},
   "outputs": [],
   "source": []
  },
  {
   "cell_type": "code",
   "execution_count": null,
   "id": "1b16f8cd",
   "metadata": {},
   "outputs": [],
   "source": []
  },
  {
   "cell_type": "code",
   "execution_count": null,
   "id": "002e873c",
   "metadata": {},
   "outputs": [],
   "source": []
  },
  {
   "cell_type": "code",
   "execution_count": null,
   "id": "967d9b8b",
   "metadata": {},
   "outputs": [],
   "source": []
  },
  {
   "cell_type": "code",
   "execution_count": null,
   "id": "d5fef411",
   "metadata": {},
   "outputs": [],
   "source": []
  },
  {
   "cell_type": "code",
   "execution_count": null,
   "id": "ec6b749d",
   "metadata": {},
   "outputs": [],
   "source": []
  },
  {
   "cell_type": "code",
   "execution_count": null,
   "id": "68c9067d",
   "metadata": {},
   "outputs": [],
   "source": []
  },
  {
   "cell_type": "code",
   "execution_count": null,
   "id": "00c457d1",
   "metadata": {},
   "outputs": [],
   "source": []
  },
  {
   "cell_type": "code",
   "execution_count": null,
   "id": "b2a2aec0",
   "metadata": {},
   "outputs": [],
   "source": []
  },
  {
   "cell_type": "code",
   "execution_count": null,
   "id": "ffd23094",
   "metadata": {},
   "outputs": [],
   "source": []
  },
  {
   "cell_type": "code",
   "execution_count": null,
   "id": "7c82e2ad",
   "metadata": {},
   "outputs": [],
   "source": []
  },
  {
   "cell_type": "code",
   "execution_count": null,
   "id": "c75f97d1",
   "metadata": {},
   "outputs": [],
   "source": []
  },
  {
   "cell_type": "code",
   "execution_count": null,
   "id": "49376109",
   "metadata": {},
   "outputs": [],
   "source": []
  },
  {
   "cell_type": "code",
   "execution_count": null,
   "id": "cd22ea80",
   "metadata": {},
   "outputs": [],
   "source": []
  },
  {
   "cell_type": "code",
   "execution_count": null,
   "id": "0d3ea486",
   "metadata": {},
   "outputs": [],
   "source": []
  },
  {
   "cell_type": "code",
   "execution_count": null,
   "id": "818a4647",
   "metadata": {},
   "outputs": [],
   "source": []
  },
  {
   "cell_type": "code",
   "execution_count": null,
   "id": "6e842e63",
   "metadata": {},
   "outputs": [],
   "source": []
  },
  {
   "cell_type": "code",
   "execution_count": null,
   "id": "2291399d",
   "metadata": {},
   "outputs": [],
   "source": []
  },
  {
   "cell_type": "code",
   "execution_count": null,
   "id": "260ecbd2",
   "metadata": {},
   "outputs": [],
   "source": []
  },
  {
   "cell_type": "code",
   "execution_count": null,
   "id": "ee75eb09",
   "metadata": {},
   "outputs": [],
   "source": []
  },
  {
   "cell_type": "code",
   "execution_count": null,
   "id": "306f7559",
   "metadata": {},
   "outputs": [],
   "source": []
  },
  {
   "cell_type": "code",
   "execution_count": null,
   "id": "37f664fb",
   "metadata": {},
   "outputs": [],
   "source": []
  },
  {
   "cell_type": "code",
   "execution_count": null,
   "id": "20270ef4",
   "metadata": {},
   "outputs": [],
   "source": []
  },
  {
   "cell_type": "code",
   "execution_count": null,
   "id": "6a1a2504",
   "metadata": {},
   "outputs": [],
   "source": []
  },
  {
   "cell_type": "code",
   "execution_count": null,
   "id": "7d0d4dc9",
   "metadata": {},
   "outputs": [],
   "source": []
  },
  {
   "cell_type": "code",
   "execution_count": null,
   "id": "b8a914e7",
   "metadata": {},
   "outputs": [],
   "source": []
  },
  {
   "cell_type": "code",
   "execution_count": null,
   "id": "b71b80fc",
   "metadata": {},
   "outputs": [],
   "source": []
  },
  {
   "cell_type": "code",
   "execution_count": null,
   "id": "86ac1686",
   "metadata": {},
   "outputs": [],
   "source": []
  },
  {
   "cell_type": "code",
   "execution_count": null,
   "id": "5298eac8",
   "metadata": {},
   "outputs": [],
   "source": []
  },
  {
   "cell_type": "code",
   "execution_count": null,
   "id": "40d0e584",
   "metadata": {},
   "outputs": [],
   "source": []
  },
  {
   "cell_type": "code",
   "execution_count": null,
   "id": "e8e832ca",
   "metadata": {},
   "outputs": [],
   "source": []
  },
  {
   "cell_type": "code",
   "execution_count": null,
   "id": "ed28601b",
   "metadata": {},
   "outputs": [],
   "source": []
  },
  {
   "cell_type": "code",
   "execution_count": null,
   "id": "6e7e97bd",
   "metadata": {},
   "outputs": [],
   "source": []
  },
  {
   "cell_type": "code",
   "execution_count": null,
   "id": "8d575ec7",
   "metadata": {},
   "outputs": [],
   "source": []
  },
  {
   "cell_type": "code",
   "execution_count": null,
   "id": "c35ed265",
   "metadata": {},
   "outputs": [],
   "source": []
  },
  {
   "cell_type": "code",
   "execution_count": null,
   "id": "9ac6b20d",
   "metadata": {},
   "outputs": [],
   "source": []
  },
  {
   "cell_type": "code",
   "execution_count": null,
   "id": "2a23974b",
   "metadata": {},
   "outputs": [],
   "source": []
  },
  {
   "cell_type": "code",
   "execution_count": null,
   "id": "cc6ed597",
   "metadata": {},
   "outputs": [],
   "source": []
  },
  {
   "cell_type": "code",
   "execution_count": null,
   "id": "441f0a77",
   "metadata": {},
   "outputs": [],
   "source": []
  },
  {
   "cell_type": "code",
   "execution_count": null,
   "id": "89b0874f",
   "metadata": {},
   "outputs": [],
   "source": []
  },
  {
   "cell_type": "code",
   "execution_count": null,
   "id": "f2b9429e",
   "metadata": {},
   "outputs": [],
   "source": []
  },
  {
   "cell_type": "code",
   "execution_count": null,
   "id": "fd8addf9",
   "metadata": {},
   "outputs": [],
   "source": []
  },
  {
   "cell_type": "code",
   "execution_count": null,
   "id": "f38d16a5",
   "metadata": {},
   "outputs": [],
   "source": []
  },
  {
   "cell_type": "code",
   "execution_count": null,
   "id": "866e6569",
   "metadata": {},
   "outputs": [],
   "source": []
  },
  {
   "cell_type": "code",
   "execution_count": null,
   "id": "561563ea",
   "metadata": {},
   "outputs": [],
   "source": []
  },
  {
   "cell_type": "code",
   "execution_count": null,
   "id": "f77feec4",
   "metadata": {},
   "outputs": [],
   "source": []
  },
  {
   "cell_type": "code",
   "execution_count": null,
   "id": "029d7b5f",
   "metadata": {},
   "outputs": [],
   "source": []
  },
  {
   "cell_type": "code",
   "execution_count": null,
   "id": "6d7fdd7a",
   "metadata": {},
   "outputs": [],
   "source": []
  },
  {
   "cell_type": "code",
   "execution_count": null,
   "id": "6d834167",
   "metadata": {},
   "outputs": [],
   "source": []
  },
  {
   "cell_type": "code",
   "execution_count": null,
   "id": "e907a5ec",
   "metadata": {},
   "outputs": [],
   "source": []
  },
  {
   "cell_type": "code",
   "execution_count": null,
   "id": "83aade7f",
   "metadata": {},
   "outputs": [],
   "source": []
  },
  {
   "cell_type": "code",
   "execution_count": null,
   "id": "9dfca7da",
   "metadata": {},
   "outputs": [],
   "source": []
  },
  {
   "cell_type": "code",
   "execution_count": null,
   "id": "1358f8ea",
   "metadata": {},
   "outputs": [],
   "source": []
  },
  {
   "cell_type": "code",
   "execution_count": null,
   "id": "f3ebf67a",
   "metadata": {},
   "outputs": [],
   "source": []
  },
  {
   "cell_type": "code",
   "execution_count": null,
   "id": "a7631481",
   "metadata": {},
   "outputs": [],
   "source": []
  },
  {
   "cell_type": "code",
   "execution_count": null,
   "id": "b509a115",
   "metadata": {},
   "outputs": [],
   "source": []
  },
  {
   "cell_type": "code",
   "execution_count": null,
   "id": "fb707fe4",
   "metadata": {},
   "outputs": [],
   "source": []
  },
  {
   "cell_type": "code",
   "execution_count": null,
   "id": "81a23ebc",
   "metadata": {},
   "outputs": [],
   "source": []
  },
  {
   "cell_type": "code",
   "execution_count": null,
   "id": "817d550b",
   "metadata": {},
   "outputs": [],
   "source": []
  },
  {
   "cell_type": "code",
   "execution_count": null,
   "id": "dee5dd22",
   "metadata": {},
   "outputs": [],
   "source": []
  },
  {
   "cell_type": "code",
   "execution_count": null,
   "id": "dd91127c",
   "metadata": {},
   "outputs": [],
   "source": []
  },
  {
   "cell_type": "code",
   "execution_count": null,
   "id": "47ffff07",
   "metadata": {},
   "outputs": [],
   "source": []
  },
  {
   "cell_type": "code",
   "execution_count": null,
   "id": "93db2620",
   "metadata": {},
   "outputs": [],
   "source": []
  },
  {
   "cell_type": "code",
   "execution_count": null,
   "id": "e3682d5d",
   "metadata": {},
   "outputs": [],
   "source": []
  },
  {
   "cell_type": "code",
   "execution_count": null,
   "id": "f2bf7d8c",
   "metadata": {},
   "outputs": [],
   "source": []
  },
  {
   "cell_type": "code",
   "execution_count": null,
   "id": "220d9918",
   "metadata": {},
   "outputs": [],
   "source": []
  },
  {
   "cell_type": "code",
   "execution_count": null,
   "id": "0cfb9f0a",
   "metadata": {},
   "outputs": [],
   "source": []
  },
  {
   "cell_type": "code",
   "execution_count": null,
   "id": "422ea9f3",
   "metadata": {},
   "outputs": [],
   "source": []
  },
  {
   "cell_type": "code",
   "execution_count": null,
   "id": "b513310e",
   "metadata": {},
   "outputs": [],
   "source": []
  },
  {
   "cell_type": "code",
   "execution_count": null,
   "id": "cee2b974",
   "metadata": {},
   "outputs": [],
   "source": []
  },
  {
   "cell_type": "code",
   "execution_count": null,
   "id": "24fbe417",
   "metadata": {},
   "outputs": [],
   "source": []
  },
  {
   "cell_type": "code",
   "execution_count": null,
   "id": "be244b95",
   "metadata": {},
   "outputs": [],
   "source": []
  },
  {
   "cell_type": "code",
   "execution_count": null,
   "id": "c9017705",
   "metadata": {},
   "outputs": [],
   "source": [
    "_2WkVRV"
   ]
  },
  {
   "cell_type": "code",
   "execution_count": null,
   "id": "b58519e3",
   "metadata": {},
   "outputs": [],
   "source": []
  },
  {
   "cell_type": "code",
   "execution_count": null,
   "id": "92cc626b",
   "metadata": {},
   "outputs": [],
   "source": []
  },
  {
   "cell_type": "code",
   "execution_count": null,
   "id": "4cf2ea8b",
   "metadata": {},
   "outputs": [],
   "source": []
  },
  {
   "cell_type": "code",
   "execution_count": null,
   "id": "1949ae47",
   "metadata": {},
   "outputs": [],
   "source": []
  },
  {
   "cell_type": "code",
   "execution_count": null,
   "id": "126f9fbe",
   "metadata": {},
   "outputs": [],
   "source": []
  },
  {
   "cell_type": "code",
   "execution_count": null,
   "id": "7e83a63f",
   "metadata": {},
   "outputs": [],
   "source": []
  },
  {
   "cell_type": "code",
   "execution_count": null,
   "id": "07795e4e",
   "metadata": {},
   "outputs": [],
   "source": []
  },
  {
   "cell_type": "code",
   "execution_count": null,
   "id": "9e7b93ec",
   "metadata": {},
   "outputs": [],
   "source": []
  },
  {
   "cell_type": "code",
   "execution_count": null,
   "id": "610ce452",
   "metadata": {},
   "outputs": [],
   "source": []
  },
  {
   "cell_type": "code",
   "execution_count": null,
   "id": "e73950fe",
   "metadata": {},
   "outputs": [],
   "source": []
  },
  {
   "cell_type": "code",
   "execution_count": null,
   "id": "8067b7b8",
   "metadata": {},
   "outputs": [],
   "source": []
  },
  {
   "cell_type": "code",
   "execution_count": null,
   "id": "4d639c3f",
   "metadata": {},
   "outputs": [],
   "source": []
  },
  {
   "cell_type": "code",
   "execution_count": null,
   "id": "fd83666c",
   "metadata": {},
   "outputs": [],
   "source": []
  },
  {
   "cell_type": "code",
   "execution_count": null,
   "id": "1eea7a18",
   "metadata": {},
   "outputs": [],
   "source": []
  },
  {
   "cell_type": "code",
   "execution_count": null,
   "id": "ddbe9843",
   "metadata": {},
   "outputs": [],
   "source": []
  },
  {
   "cell_type": "code",
   "execution_count": null,
   "id": "0fb14768",
   "metadata": {},
   "outputs": [],
   "source": []
  },
  {
   "cell_type": "code",
   "execution_count": null,
   "id": "c93f597c",
   "metadata": {},
   "outputs": [],
   "source": []
  },
  {
   "cell_type": "code",
   "execution_count": null,
   "id": "d0ad0516",
   "metadata": {},
   "outputs": [],
   "source": []
  },
  {
   "cell_type": "code",
   "execution_count": null,
   "id": "4ba6e4ad",
   "metadata": {},
   "outputs": [],
   "source": []
  },
  {
   "cell_type": "code",
   "execution_count": null,
   "id": "fc1499d5",
   "metadata": {},
   "outputs": [],
   "source": []
  },
  {
   "cell_type": "code",
   "execution_count": null,
   "id": "36ad9280",
   "metadata": {},
   "outputs": [],
   "source": []
  },
  {
   "cell_type": "code",
   "execution_count": null,
   "id": "385be375",
   "metadata": {},
   "outputs": [],
   "source": []
  },
  {
   "cell_type": "code",
   "execution_count": null,
   "id": "72e4b4af",
   "metadata": {},
   "outputs": [],
   "source": []
  },
  {
   "cell_type": "code",
   "execution_count": null,
   "id": "fb5a376a",
   "metadata": {},
   "outputs": [],
   "source": []
  },
  {
   "cell_type": "code",
   "execution_count": null,
   "id": "fccbd36b",
   "metadata": {},
   "outputs": [],
   "source": []
  },
  {
   "cell_type": "code",
   "execution_count": null,
   "id": "9bc60a92",
   "metadata": {},
   "outputs": [],
   "source": []
  },
  {
   "cell_type": "code",
   "execution_count": null,
   "id": "906f5271",
   "metadata": {},
   "outputs": [],
   "source": []
  },
  {
   "cell_type": "code",
   "execution_count": null,
   "id": "7cdde3ea",
   "metadata": {},
   "outputs": [],
   "source": []
  },
  {
   "cell_type": "code",
   "execution_count": null,
   "id": "98740642",
   "metadata": {},
   "outputs": [],
   "source": []
  },
  {
   "cell_type": "code",
   "execution_count": null,
   "id": "998e0892",
   "metadata": {},
   "outputs": [],
   "source": []
  },
  {
   "cell_type": "code",
   "execution_count": null,
   "id": "258e98f3",
   "metadata": {},
   "outputs": [],
   "source": []
  },
  {
   "cell_type": "code",
   "execution_count": null,
   "id": "fea954e6",
   "metadata": {},
   "outputs": [],
   "source": []
  },
  {
   "cell_type": "code",
   "execution_count": null,
   "id": "a943307a",
   "metadata": {},
   "outputs": [],
   "source": []
  },
  {
   "cell_type": "code",
   "execution_count": null,
   "id": "9b2ae6eb",
   "metadata": {},
   "outputs": [],
   "source": []
  },
  {
   "cell_type": "code",
   "execution_count": null,
   "id": "fc563112",
   "metadata": {},
   "outputs": [],
   "source": []
  },
  {
   "cell_type": "code",
   "execution_count": null,
   "id": "5a7c8c73",
   "metadata": {},
   "outputs": [],
   "source": []
  },
  {
   "cell_type": "code",
   "execution_count": null,
   "id": "b61507d4",
   "metadata": {},
   "outputs": [],
   "source": []
  },
  {
   "cell_type": "code",
   "execution_count": null,
   "id": "8846246d",
   "metadata": {},
   "outputs": [],
   "source": []
  },
  {
   "cell_type": "code",
   "execution_count": null,
   "id": "8a8b2883",
   "metadata": {},
   "outputs": [],
   "source": []
  },
  {
   "cell_type": "code",
   "execution_count": null,
   "id": "bc90a0c5",
   "metadata": {},
   "outputs": [],
   "source": []
  },
  {
   "cell_type": "code",
   "execution_count": null,
   "id": "860764c1",
   "metadata": {},
   "outputs": [],
   "source": []
  },
  {
   "cell_type": "code",
   "execution_count": null,
   "id": "218536eb",
   "metadata": {},
   "outputs": [],
   "source": []
  },
  {
   "cell_type": "code",
   "execution_count": null,
   "id": "fd788a5a",
   "metadata": {},
   "outputs": [],
   "source": []
  },
  {
   "cell_type": "code",
   "execution_count": null,
   "id": "acf10197",
   "metadata": {},
   "outputs": [],
   "source": []
  },
  {
   "cell_type": "code",
   "execution_count": null,
   "id": "4d1ad6db",
   "metadata": {},
   "outputs": [],
   "source": []
  },
  {
   "cell_type": "code",
   "execution_count": null,
   "id": "58abfb80",
   "metadata": {},
   "outputs": [],
   "source": []
  },
  {
   "cell_type": "code",
   "execution_count": null,
   "id": "a06d31ee",
   "metadata": {},
   "outputs": [],
   "source": []
  },
  {
   "cell_type": "code",
   "execution_count": null,
   "id": "fe4053c1",
   "metadata": {},
   "outputs": [],
   "source": []
  },
  {
   "cell_type": "code",
   "execution_count": null,
   "id": "1d0ec4a2",
   "metadata": {},
   "outputs": [],
   "source": []
  },
  {
   "cell_type": "code",
   "execution_count": null,
   "id": "3f48dbf6",
   "metadata": {},
   "outputs": [],
   "source": []
  },
  {
   "cell_type": "code",
   "execution_count": null,
   "id": "f3edb1ad",
   "metadata": {},
   "outputs": [],
   "source": []
  },
  {
   "cell_type": "code",
   "execution_count": null,
   "id": "645c0c70",
   "metadata": {},
   "outputs": [],
   "source": []
  },
  {
   "cell_type": "code",
   "execution_count": null,
   "id": "dee5c2b7",
   "metadata": {},
   "outputs": [],
   "source": []
  },
  {
   "cell_type": "code",
   "execution_count": null,
   "id": "434c9dad",
   "metadata": {},
   "outputs": [],
   "source": []
  },
  {
   "cell_type": "code",
   "execution_count": null,
   "id": "7f695f75",
   "metadata": {},
   "outputs": [],
   "source": []
  },
  {
   "cell_type": "code",
   "execution_count": null,
   "id": "1cbd50c4",
   "metadata": {},
   "outputs": [],
   "source": []
  },
  {
   "cell_type": "code",
   "execution_count": null,
   "id": "ff26556f",
   "metadata": {},
   "outputs": [],
   "source": []
  },
  {
   "cell_type": "code",
   "execution_count": null,
   "id": "bb67692f",
   "metadata": {},
   "outputs": [],
   "source": []
  }
 ],
 "metadata": {
  "kernelspec": {
   "display_name": "Python 3 (ipykernel)",
   "language": "python",
   "name": "python3"
  },
  "language_info": {
   "codemirror_mode": {
    "name": "ipython",
    "version": 3
   },
   "file_extension": ".py",
   "mimetype": "text/x-python",
   "name": "python",
   "nbconvert_exporter": "python",
   "pygments_lexer": "ipython3",
   "version": "3.9.7"
  }
 },
 "nbformat": 4,
 "nbformat_minor": 5
}
